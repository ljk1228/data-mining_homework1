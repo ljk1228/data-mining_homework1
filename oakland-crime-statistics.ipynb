{
 "cells": [
  {
   "cell_type": "markdown",
   "metadata": {},
   "source": [
    "# 数据挖掘作业一\n",
    "## 姓名：林金坤 学号：3220211034\n",
    "## 数据集：Oakland Crime Statistics 2011 to 2016"
   ]
  },
  {
   "cell_type": "code",
   "execution_count": 3,
   "metadata": {
    "_cell_guid": "af176ef0-bf50-4206-bf4b-cbf5b6bfe884",
    "_uuid": "9271c2b3-6290-4c70-9af7-2c366a9c530d"
   },
   "outputs": [],
   "source": [
    "#导入必要的包\n",
    "import matplotlib.pyplot as plt\n",
    "import pandas as pd\n",
    "import numpy as np\n",
    "from scipy import stats\n",
    "from collections import Counter\n",
    "from math import isnan\n",
    "import math\n"
   ]
  },
  {
   "cell_type": "markdown",
   "metadata": {},
   "source": [
    "## 查看数据集并对数据集进行了解"
   ]
  },
  {
   "cell_type": "code",
   "execution_count": 4,
   "metadata": {},
   "outputs": [
    {
     "name": "stdout",
     "output_type": "stream",
     "text": [
      "E:\\homework-1\\data\\oakland-crime-statistics-2011-to-2016\\records-for-2011.csv\n",
      "E:\\homework-1\\data\\oakland-crime-statistics-2011-to-2016\\records-for-2012.csv\n",
      "E:\\homework-1\\data\\oakland-crime-statistics-2011-to-2016\\records-for-2013.csv\n",
      "E:\\homework-1\\data\\oakland-crime-statistics-2011-to-2016\\records-for-2014.csv\n",
      "E:\\homework-1\\data\\oakland-crime-statistics-2011-to-2016\\records-for-2015.csv\n",
      "E:\\homework-1\\data\\oakland-crime-statistics-2011-to-2016\\records-for-2016.csv\n"
     ]
    }
   ],
   "source": [
    "#查看当前文件夹下有哪些数据集以及数据集所处的路径\n",
    "import os\n",
    "for dirname, _, filenames in os.walk('E:\\homework-1\\data\\oakland-crime-statistics-2011-to-2016'):\n",
    "    for filename in filenames:\n",
    "        print(os.path.join(dirname, filename))\n",
    "\n",
    "#数据集文件解释，这里我们拿records-for-2011.csv做数据分析        \n",
    "#其他文件均为2011-2016的犯罪数据"
   ]
  },
  {
   "cell_type": "code",
   "execution_count": 5,
   "metadata": {},
   "outputs": [
    {
     "data": {
      "text/html": [
       "<div>\n",
       "<style scoped>\n",
       "    .dataframe tbody tr th:only-of-type {\n",
       "        vertical-align: middle;\n",
       "    }\n",
       "\n",
       "    .dataframe tbody tr th {\n",
       "        vertical-align: top;\n",
       "    }\n",
       "\n",
       "    .dataframe thead th {\n",
       "        text-align: right;\n",
       "    }\n",
       "</style>\n",
       "<table border=\"1\" class=\"dataframe\">\n",
       "  <thead>\n",
       "    <tr style=\"text-align: right;\">\n",
       "      <th></th>\n",
       "      <th>Create Time</th>\n",
       "      <th>Location</th>\n",
       "      <th>Area Id</th>\n",
       "      <th>Beat</th>\n",
       "      <th>Priority</th>\n",
       "      <th>Incident Type Id</th>\n",
       "      <th>Incident Type Description</th>\n",
       "      <th>Event Number</th>\n",
       "      <th>Closed Time</th>\n",
       "    </tr>\n",
       "    <tr>\n",
       "      <th>Agency</th>\n",
       "      <th></th>\n",
       "      <th></th>\n",
       "      <th></th>\n",
       "      <th></th>\n",
       "      <th></th>\n",
       "      <th></th>\n",
       "      <th></th>\n",
       "      <th></th>\n",
       "      <th></th>\n",
       "    </tr>\n",
       "  </thead>\n",
       "  <tbody>\n",
       "    <tr>\n",
       "      <th>OP</th>\n",
       "      <td>2011-01-01T00:00:00.000</td>\n",
       "      <td>ST&amp;SAN PABLO AV</td>\n",
       "      <td>1.0</td>\n",
       "      <td>06X</td>\n",
       "      <td>1.0</td>\n",
       "      <td>PDOA</td>\n",
       "      <td>POSSIBLE DEAD PERSON</td>\n",
       "      <td>LOP110101000001</td>\n",
       "      <td>2011-01-01T00:28:17.000</td>\n",
       "    </tr>\n",
       "    <tr>\n",
       "      <th>OP</th>\n",
       "      <td>2011-01-01T00:01:11.000</td>\n",
       "      <td>ST&amp;HANNAH ST</td>\n",
       "      <td>1.0</td>\n",
       "      <td>07X</td>\n",
       "      <td>1.0</td>\n",
       "      <td>415GS</td>\n",
       "      <td>415 GUNSHOTS</td>\n",
       "      <td>LOP110101000002</td>\n",
       "      <td>2011-01-01T01:12:56.000</td>\n",
       "    </tr>\n",
       "    <tr>\n",
       "      <th>OP</th>\n",
       "      <td>2011-01-01T00:01:25.000</td>\n",
       "      <td>ST&amp;MARKET ST</td>\n",
       "      <td>1.0</td>\n",
       "      <td>10Y</td>\n",
       "      <td>2.0</td>\n",
       "      <td>415GS</td>\n",
       "      <td>415 GUNSHOTS</td>\n",
       "      <td>LOP110101000003</td>\n",
       "      <td>2011-01-01T00:07:20.000</td>\n",
       "    </tr>\n",
       "    <tr>\n",
       "      <th>OP</th>\n",
       "      <td>2011-01-01T00:01:35.000</td>\n",
       "      <td>PRENTISS ST</td>\n",
       "      <td>2.0</td>\n",
       "      <td>21Y</td>\n",
       "      <td>2.0</td>\n",
       "      <td>415GS</td>\n",
       "      <td>415 GUNSHOTS</td>\n",
       "      <td>LOP110101000005</td>\n",
       "      <td>2011-01-01T00:02:28.000</td>\n",
       "    </tr>\n",
       "    <tr>\n",
       "      <th>OP</th>\n",
       "      <td>2011-01-01T00:02:10.000</td>\n",
       "      <td>AV&amp;FOOTHILL BLVD</td>\n",
       "      <td>2.0</td>\n",
       "      <td>20X</td>\n",
       "      <td>1.0</td>\n",
       "      <td>415GS</td>\n",
       "      <td>415 GUNSHOTS</td>\n",
       "      <td>LOP110101000004</td>\n",
       "      <td>2011-01-01T00:50:04.000</td>\n",
       "    </tr>\n",
       "  </tbody>\n",
       "</table>\n",
       "</div>"
      ],
      "text/plain": [
       "                    Create Time            Location  Area Id Beat  Priority  \\\n",
       "Agency                                                                        \n",
       "OP      2011-01-01T00:00:00.000     ST&SAN PABLO AV      1.0  06X       1.0   \n",
       "OP      2011-01-01T00:01:11.000       ST&HANNAH ST       1.0  07X       1.0   \n",
       "OP      2011-01-01T00:01:25.000       ST&MARKET ST       1.0  10Y       2.0   \n",
       "OP      2011-01-01T00:01:35.000        PRENTISS ST       2.0  21Y       2.0   \n",
       "OP      2011-01-01T00:02:10.000   AV&FOOTHILL BLVD       2.0  20X       1.0   \n",
       "\n",
       "       Incident Type Id Incident Type Description     Event Number  \\\n",
       "Agency                                                               \n",
       "OP                 PDOA      POSSIBLE DEAD PERSON  LOP110101000001   \n",
       "OP                415GS              415 GUNSHOTS  LOP110101000002   \n",
       "OP                415GS              415 GUNSHOTS  LOP110101000003   \n",
       "OP                415GS              415 GUNSHOTS  LOP110101000005   \n",
       "OP                415GS              415 GUNSHOTS  LOP110101000004   \n",
       "\n",
       "                    Closed Time  \n",
       "Agency                           \n",
       "OP      2011-01-01T00:28:17.000  \n",
       "OP      2011-01-01T01:12:56.000  \n",
       "OP      2011-01-01T00:07:20.000  \n",
       "OP      2011-01-01T00:02:28.000  \n",
       "OP      2011-01-01T00:50:04.000  "
      ]
     },
     "execution_count": 5,
     "metadata": {},
     "output_type": "execute_result"
    }
   ],
   "source": [
    "#读取数据集\n",
    "path = 'E:\\homework-1\\data\\oakland-crime-statistics-2011-to-2016/'\n",
    "data = pd.read_csv(path+'records-for-2011.csv',index_col=0)\n",
    "data.head()#默认展示前五行数据\n"
   ]
  },
  {
   "cell_type": "code",
   "execution_count": 6,
   "metadata": {},
   "outputs": [
    {
     "data": {
      "text/plain": [
       "Create Time                   object\n",
       "Location                      object\n",
       "Area Id                      float64\n",
       "Beat                          object\n",
       "Priority                     float64\n",
       "Incident Type Id              object\n",
       "Incident Type Description     object\n",
       "Event Number                  object\n",
       "Closed Time                   object\n",
       "dtype: object"
      ]
     },
     "execution_count": 6,
     "metadata": {},
     "output_type": "execute_result"
    }
   ],
   "source": [
    "data.dtypes #每列数据的数据类型"
   ]
  },
  {
   "cell_type": "code",
   "execution_count": 7,
   "metadata": {},
   "outputs": [
    {
     "data": {
      "text/plain": [
       "(180016, 9)"
      ]
     },
     "execution_count": 7,
     "metadata": {},
     "output_type": "execute_result"
    }
   ],
   "source": [
    "data.shape #数据集的大小"
   ]
  },
  {
   "cell_type": "markdown",
   "metadata": {},
   "source": [
    "# 数据分析要求"
   ]
  },
  {
   "cell_type": "markdown",
   "metadata": {},
   "source": [
    "##  数据可视化和摘要\n",
    "\n"
   ]
  },
  {
   "cell_type": "markdown",
   "metadata": {},
   "source": [
    "###  数据摘要\n",
    "（1）标称属性，给出每个可能聚会的频数"
   ]
  },
  {
   "cell_type": "code",
   "execution_count": 8,
   "metadata": {},
   "outputs": [
    {
     "data": {
      "text/plain": [
       "2011-06-02T00:00:00.000    4\n",
       "2011-03-27T00:22:41.000    3\n",
       "2011-09-21T14:05:59.000    3\n",
       "2011-03-13T23:16:51.000    2\n",
       "2011-03-21T11:07:15.000    2\n",
       "                          ..\n",
       "2011-05-05T14:20:08.000    1\n",
       "2011-05-05T14:20:57.000    1\n",
       "2011-05-05T14:21:31.000    1\n",
       "2011-05-05T14:22:28.000    1\n",
       "2011-12-31T23:58:08.000    1\n",
       "Name: Create Time, Length: 179451, dtype: int64"
      ]
     },
     "execution_count": 8,
     "metadata": {},
     "output_type": "execute_result"
    }
   ],
   "source": [
    "#由上面对数据集各列进行分析得知，该数据集的标称属性有'Create Time','Location','Beat','Incident Type Id',\n",
    "#'Incident Type Description','Event Number','Closed Time'七个标称属性\n",
    "#下面给出每个属性取值的频数\n",
    "#(1)Create Time\n",
    "pd.value_counts(data['Create Time'])"
   ]
  },
  {
   "cell_type": "code",
   "execution_count": 9,
   "metadata": {},
   "outputs": [
    {
     "data": {
      "text/plain": [
       " INTERNATIONAL BLVD        3866\n",
       " MACARTHUR BLVD            3129\n",
       " AV&INTERNATIONAL BLVD     3067\n",
       " BROADWAY                  2132\n",
       " FOOTHILL BLVD             1791\n",
       "                           ... \n",
       "54TH PANORAMIC WY             1\n",
       "54TH 10TH AV                  1\n",
       "54TH 46TH ST                  1\n",
       "540A AV&FOOTHILL BLVD         1\n",
       "WOODSON B ST                  1\n",
       "Name: Location, Length: 32505, dtype: int64"
      ]
     },
     "execution_count": 9,
     "metadata": {},
     "output_type": "execute_result"
    }
   ],
   "source": [
    "#(2) Location\n",
    "pd.value_counts(data['Location'])"
   ]
  },
  {
   "cell_type": "code",
   "execution_count": 10,
   "metadata": {},
   "outputs": [
    {
     "data": {
      "text/plain": [
       "04X     7410\n",
       "08X     6885\n",
       "26Y     5478\n",
       "30Y     5295\n",
       "06X     5119\n",
       "23X     5051\n",
       "30X     4956\n",
       "19X     4955\n",
       "34X     4673\n",
       "29X     4483\n",
       "20X     4287\n",
       "27Y     4159\n",
       "07X     4134\n",
       "31Y     4082\n",
       "25X     4022\n",
       "35X     3880\n",
       "33X     3849\n",
       "03X     3819\n",
       "32X     3711\n",
       "27X     3703\n",
       "09X     3630\n",
       "21Y     3435\n",
       "32Y     3125\n",
       "22X     3061\n",
       "26X     2978\n",
       "02Y     2970\n",
       "10X     2967\n",
       "14X     2733\n",
       "03Y     2726\n",
       "22Y     2664\n",
       "12Y     2651\n",
       "05X     2633\n",
       "02X     2614\n",
       "31X     2603\n",
       "21X     2593\n",
       "17Y     2582\n",
       "24Y     2575\n",
       "13Z     2546\n",
       "15X     2509\n",
       "24X     2459\n",
       "12X     2422\n",
       "10Y     2383\n",
       "01X     2210\n",
       "28X     2191\n",
       "17X     2133\n",
       "11X     2087\n",
       "13Y     2017\n",
       "35Y     1956\n",
       "31Z     1870\n",
       "18Y     1778\n",
       "16Y     1561\n",
       "14Y     1492\n",
       "25Y     1482\n",
       "13X     1122\n",
       "18X     1063\n",
       "16X      994\n",
       "05Y      710\n",
       "PDT2      20\n",
       "Name: Beat, dtype: int64"
      ]
     },
     "execution_count": 10,
     "metadata": {},
     "output_type": "execute_result"
    }
   ],
   "source": [
    "#(3) Beat\n",
    "pd.value_counts(data['Beat'])"
   ]
  },
  {
   "cell_type": "code",
   "execution_count": 11,
   "metadata": {},
   "outputs": [
    {
     "data": {
      "text/plain": [
       "933R      17348\n",
       "911H      12817\n",
       "SECCK     11393\n",
       "415       10752\n",
       "10851      7180\n",
       "          ...  \n",
       "970A          1\n",
       "148           1\n",
       "963           1\n",
       "346           1\n",
       "YELALT        1\n",
       "Name: Incident Type Id, Length: 263, dtype: int64"
      ]
     },
     "execution_count": 11,
     "metadata": {},
     "output_type": "execute_result"
    }
   ],
   "source": [
    "#(4)Incident Type Id\n",
    "pd.value_counts(data['Incident Type Id'])"
   ]
  },
  {
   "cell_type": "code",
   "execution_count": 12,
   "metadata": {},
   "outputs": [
    {
     "data": {
      "text/plain": [
       "ALARM-RINGER            17348\n",
       "911 HANG-UP             12817\n",
       "SECURITY CHECK          11393\n",
       "STOLEN VEHICLE           7180\n",
       "415 UNKNOWN              6624\n",
       "                        ...  \n",
       "INJURE TELEPHONE/POW        1\n",
       "CONSPIRACY COURT ORD        1\n",
       "POSSESSION/MANUFACTU        1\n",
       "PLAYING BALL IN STRE        1\n",
       "YELLOW ALERT AT THE         1\n",
       "Name: Incident Type Description, Length: 265, dtype: int64"
      ]
     },
     "execution_count": 12,
     "metadata": {},
     "output_type": "execute_result"
    }
   ],
   "source": [
    "#(5)Incident Type Description\n",
    "pd.value_counts(data['Incident Type Description'])"
   ]
  },
  {
   "cell_type": "code",
   "execution_count": 13,
   "metadata": {},
   "outputs": [
    {
     "data": {
      "text/plain": [
       "LOP110101000001    1\n",
       "LOP110830000198    1\n",
       "LOP110830000186    1\n",
       "LOP110830000187    1\n",
       "LOP110830000189    1\n",
       "                  ..\n",
       "LOP110505000405    1\n",
       "LOP110505000404    1\n",
       "LOP110505000408    1\n",
       "LOP110505000409    1\n",
       "LOP111231001017    1\n",
       "Name: Event Number, Length: 180015, dtype: int64"
      ]
     },
     "execution_count": 13,
     "metadata": {},
     "output_type": "execute_result"
    }
   ],
   "source": [
    "#(6)Event Number\n",
    "pd.value_counts(data['Event Number'])"
   ]
  },
  {
   "cell_type": "code",
   "execution_count": 14,
   "metadata": {},
   "outputs": [
    {
     "data": {
      "text/plain": [
       "2011-05-31T01:35:18.000    2\n",
       "2011-11-28T15:55:49.000    2\n",
       "2011-05-27T18:57:03.000    2\n",
       "2011-11-20T12:39:22.000    2\n",
       "2011-09-17T02:40:43.000    2\n",
       "                          ..\n",
       "2011-05-05T14:38:16.000    1\n",
       "2011-05-05T17:39:54.000    1\n",
       "2011-05-05T14:58:20.000    1\n",
       "2011-05-05T15:51:33.000    1\n",
       "2012-01-01T02:59:48.000    1\n",
       "Name: Closed Time, Length: 179506, dtype: int64"
      ]
     },
     "execution_count": 14,
     "metadata": {},
     "output_type": "execute_result"
    }
   ],
   "source": [
    "#(7)Closed Time\n",
    "pd.value_counts(data['Closed Time'])"
   ]
  },
  {
   "cell_type": "markdown",
   "metadata": {},
   "source": [
    "(2)数值属性，给出5数概括及缺失值的个数"
   ]
  },
  {
   "cell_type": "code",
   "execution_count": 15,
   "metadata": {},
   "outputs": [
    {
     "data": {
      "text/html": [
       "<div>\n",
       "<style scoped>\n",
       "    .dataframe tbody tr th:only-of-type {\n",
       "        vertical-align: middle;\n",
       "    }\n",
       "\n",
       "    .dataframe tbody tr th {\n",
       "        vertical-align: top;\n",
       "    }\n",
       "\n",
       "    .dataframe thead th {\n",
       "        text-align: right;\n",
       "    }\n",
       "</style>\n",
       "<table border=\"1\" class=\"dataframe\">\n",
       "  <thead>\n",
       "    <tr style=\"text-align: right;\">\n",
       "      <th></th>\n",
       "      <th>Area Id</th>\n",
       "      <th>Priority</th>\n",
       "    </tr>\n",
       "  </thead>\n",
       "  <tbody>\n",
       "    <tr>\n",
       "      <th>count</th>\n",
       "      <td>179112.000000</td>\n",
       "      <td>180015.000000</td>\n",
       "    </tr>\n",
       "    <tr>\n",
       "      <th>mean</th>\n",
       "      <td>1.740648</td>\n",
       "      <td>1.796111</td>\n",
       "    </tr>\n",
       "    <tr>\n",
       "      <th>std</th>\n",
       "      <td>0.746468</td>\n",
       "      <td>0.402916</td>\n",
       "    </tr>\n",
       "    <tr>\n",
       "      <th>min</th>\n",
       "      <td>1.000000</td>\n",
       "      <td>0.000000</td>\n",
       "    </tr>\n",
       "    <tr>\n",
       "      <th>25%</th>\n",
       "      <td>1.000000</td>\n",
       "      <td>2.000000</td>\n",
       "    </tr>\n",
       "    <tr>\n",
       "      <th>50%</th>\n",
       "      <td>2.000000</td>\n",
       "      <td>2.000000</td>\n",
       "    </tr>\n",
       "    <tr>\n",
       "      <th>75%</th>\n",
       "      <td>2.000000</td>\n",
       "      <td>2.000000</td>\n",
       "    </tr>\n",
       "    <tr>\n",
       "      <th>max</th>\n",
       "      <td>3.000000</td>\n",
       "      <td>2.000000</td>\n",
       "    </tr>\n",
       "  </tbody>\n",
       "</table>\n",
       "</div>"
      ],
      "text/plain": [
       "             Area Id       Priority\n",
       "count  179112.000000  180015.000000\n",
       "mean        1.740648       1.796111\n",
       "std         0.746468       0.402916\n",
       "min         1.000000       0.000000\n",
       "25%         1.000000       2.000000\n",
       "50%         2.000000       2.000000\n",
       "75%         2.000000       2.000000\n",
       "max         3.000000       2.000000"
      ]
     },
     "execution_count": 15,
     "metadata": {},
     "output_type": "execute_result"
    }
   ],
   "source": [
    "#这里的数值属性包括points和price\n",
    "#用describe函数对数据的5数进行概括\n",
    "digital_data = ['Area Id','Priority']\n",
    "data[digital_data].describe()"
   ]
  },
  {
   "cell_type": "markdown",
   "metadata": {},
   "source": [
    "Area Id:最大值3，最小值1，均值1.74，中位数2，四分位数[1,2,2],缺失值个数为904\n",
    "\n",
    "Priority:最大值2，最小值0，均值1.80，中位数2，四分位数[2,2,2],缺失值个数为1"
   ]
  },
  {
   "cell_type": "code",
   "execution_count": 16,
   "metadata": {},
   "outputs": [
    {
     "name": "stdout",
     "output_type": "stream",
     "text": [
      "The Null num of 'Area Id' is: 904\n"
     ]
    }
   ],
   "source": [
    "\n",
    "#给出points和price缺失值个数\n",
    "print(\"The Null num of 'Area Id' is:\",data['Area Id'].isnull().sum())"
   ]
  },
  {
   "cell_type": "code",
   "execution_count": 17,
   "metadata": {},
   "outputs": [
    {
     "name": "stdout",
     "output_type": "stream",
     "text": [
      "The Null num of 'Priority' is: 1\n"
     ]
    }
   ],
   "source": [
    "print(\"The Null num of 'Priority' is:\",data['Priority'].isnull().sum())"
   ]
  },
  {
   "cell_type": "markdown",
   "metadata": {},
   "source": [
    "### 数据可视化\n",
    "（1）绘制Area Id的直方图、盒图、qq图（此处只针对数值类型的数据）"
   ]
  },
  {
   "cell_type": "code",
   "execution_count": 18,
   "metadata": {},
   "outputs": [
    {
     "data": {
      "image/png": "[encoded data removed]",
      "text/plain": [
       "<Figure size 720x720 with 4 Axes>"
      ]
     },
     "metadata": {
      "needs_background": "light"
     },
     "output_type": "display_data"
    }
   ],
   "source": [
    "# coding=utf-8\n",
    "plt.figure(figsize = (10,10))\n",
    "\n",
    "#直方图\n",
    "plt.subplot(2,2,1)\n",
    "plt.title(\"Area Id hist\")\n",
    "data['Area Id'].hist(alpha=0.5,bins=15) #alpha透明度，bins竖条数\n",
    "\n",
    "#盒图\n",
    "plt.subplot(2,2,2)\n",
    "plt.title(\"Area Id box\")\n",
    "data['Area Id'].plot(kind='box',notch=True,grid=True)\n",
    "\n",
    "#q-q图\n",
    "plt.subplot(2,2,3)\n",
    "stats.probplot(data['Area Id'],dist=\"norm\",plot=plt)\n",
    "\n",
    "#去除缺失值再绘制q-q图\n",
    "plt.subplot(2,2,4)\n",
    "data_drop=pd.DataFrame(data['Area Id'].copy(deep=True))\n",
    "data_drop = data_drop.dropna()\n",
    "stats.probplot(data_drop['Area Id'], dist=\"norm\", plot=plt)\n",
    "\n",
    "plt.show()\n"
   ]
  },
  {
   "cell_type": "code",
   "execution_count": 19,
   "metadata": {},
   "outputs": [
    {
     "data": {
      "image/png": "[encoded data removed]",
      "text/plain": [
       "<Figure size 720x720 with 4 Axes>"
      ]
     },
     "metadata": {
      "needs_background": "light"
     },
     "output_type": "display_data"
    }
   ],
   "source": [
    "#绘制price的直方图、盒图、qq图\n",
    "plt.figure(figsize = (10,10))\n",
    "\n",
    "#直方图\n",
    "plt.subplot(2,2,1)\n",
    "plt.title(\"Priority hist\")\n",
    "data['Priority'].hist(alpha=0.5,bins=15) #alpha透明度，bins竖条数\n",
    "\n",
    "#盒图\n",
    "plt.subplot(2,2,2)\n",
    "plt.title(\"Priority box\")\n",
    "data['Priority'].plot(kind='box',notch=True,grid=True)\n",
    "\n",
    "#q-q图\n",
    "plt.subplot(2,2,3)\n",
    "stats.probplot(data['Priority'],dist=\"norm\",plot=plt)\n",
    "\n",
    "#去除缺失值再绘制q-q图\n",
    "plt.subplot(2,2,4)\n",
    "pricewithooutnulldata = pd.DataFrame(data['Priority']) \n",
    "pricewithooutnulldata = pricewithooutnulldata.dropna()  \n",
    "stats.probplot(data['Priority'],dist=\"norm\",plot=plt)\n",
    "\n",
    "plt.show()"
   ]
  },
  {
   "cell_type": "markdown",
   "metadata": {},
   "source": [
    "### 由上图可以得出结论：\n",
    "\n",
    "Area Id属性、Priority属性分布均不符合正态分布。\n"
   ]
  },
  {
   "cell_type": "markdown",
   "metadata": {},
   "source": [
    "# 数据缺失处理"
   ]
  },
  {
   "cell_type": "code",
   "execution_count": 20,
   "metadata": {},
   "outputs": [],
   "source": [
    "#绘制表格查看数据缺失值并检验四种方案填充后是否还有缺失值\n",
    "def missing_data(datatodel):\n",
    "    missing_num = datatodel.isnull().sum()\n",
    "    missing_percent = missing_num/datatodel.shape[0]*100\n",
    "    concat_data = pd.concat([missing_num,missing_percent],axis=1,keys=['missing_num','missing_percent'])\n",
    "    concat_data['Types'] = datatodel.dtypes\n",
    "    return concat_data\n"
   ]
  },
  {
   "cell_type": "markdown",
   "metadata": {},
   "source": [
    "由上表可以看出，数值型数据price存在缺失值\n",
    "\n",
    "标称型数据country，designation,province,region_1,region_2存在缺失值\n",
    "\n",
    "这里缺失的原因可能是由于未完全记录、遗漏或无法获取"
   ]
  },
  {
   "cell_type": "markdown",
   "metadata": {},
   "source": [
    "## 方案一 缺失值剔除"
   ]
  },
  {
   "cell_type": "code",
   "execution_count": 21,
   "metadata": {},
   "outputs": [
    {
     "data": {
      "text/html": [
       "<div>\n",
       "<style scoped>\n",
       "    .dataframe tbody tr th:only-of-type {\n",
       "        vertical-align: middle;\n",
       "    }\n",
       "\n",
       "    .dataframe tbody tr th {\n",
       "        vertical-align: top;\n",
       "    }\n",
       "\n",
       "    .dataframe thead th {\n",
       "        text-align: right;\n",
       "    }\n",
       "</style>\n",
       "<table border=\"1\" class=\"dataframe\">\n",
       "  <thead>\n",
       "    <tr style=\"text-align: right;\">\n",
       "      <th></th>\n",
       "      <th>missing_num</th>\n",
       "      <th>missing_percent</th>\n",
       "      <th>Types</th>\n",
       "    </tr>\n",
       "  </thead>\n",
       "  <tbody>\n",
       "    <tr>\n",
       "      <th>Create Time</th>\n",
       "      <td>1</td>\n",
       "      <td>0.000556</td>\n",
       "      <td>object</td>\n",
       "    </tr>\n",
       "    <tr>\n",
       "      <th>Location</th>\n",
       "      <td>0</td>\n",
       "      <td>0.000000</td>\n",
       "      <td>object</td>\n",
       "    </tr>\n",
       "    <tr>\n",
       "      <th>Area Id</th>\n",
       "      <td>904</td>\n",
       "      <td>0.502178</td>\n",
       "      <td>float64</td>\n",
       "    </tr>\n",
       "    <tr>\n",
       "      <th>Beat</th>\n",
       "      <td>520</td>\n",
       "      <td>0.288863</td>\n",
       "      <td>object</td>\n",
       "    </tr>\n",
       "    <tr>\n",
       "      <th>Priority</th>\n",
       "      <td>1</td>\n",
       "      <td>0.000556</td>\n",
       "      <td>float64</td>\n",
       "    </tr>\n",
       "    <tr>\n",
       "      <th>Incident Type Id</th>\n",
       "      <td>1</td>\n",
       "      <td>0.000556</td>\n",
       "      <td>object</td>\n",
       "    </tr>\n",
       "    <tr>\n",
       "      <th>Incident Type Description</th>\n",
       "      <td>1</td>\n",
       "      <td>0.000556</td>\n",
       "      <td>object</td>\n",
       "    </tr>\n",
       "    <tr>\n",
       "      <th>Event Number</th>\n",
       "      <td>1</td>\n",
       "      <td>0.000556</td>\n",
       "      <td>object</td>\n",
       "    </tr>\n",
       "    <tr>\n",
       "      <th>Closed Time</th>\n",
       "      <td>7</td>\n",
       "      <td>0.003889</td>\n",
       "      <td>object</td>\n",
       "    </tr>\n",
       "  </tbody>\n",
       "</table>\n",
       "</div>"
      ],
      "text/plain": [
       "                           missing_num  missing_percent    Types\n",
       "Create Time                          1         0.000556   object\n",
       "Location                             0         0.000000   object\n",
       "Area Id                            904         0.502178  float64\n",
       "Beat                               520         0.288863   object\n",
       "Priority                             1         0.000556  float64\n",
       "Incident Type Id                     1         0.000556   object\n",
       "Incident Type Description            1         0.000556   object\n",
       "Event Number                         1         0.000556   object\n",
       "Closed Time                          7         0.003889   object"
      ]
     },
     "execution_count": 21,
     "metadata": {},
     "output_type": "execute_result"
    }
   ],
   "source": [
    "#未处理前的原始数据\n",
    "missing_data(data)"
   ]
  },
  {
   "cell_type": "code",
   "execution_count": 22,
   "metadata": {},
   "outputs": [],
   "source": [
    "del_null_data = data.copy(deep=True)\n",
    "del_null_data = del_null_data.dropna()"
   ]
  },
  {
   "cell_type": "code",
   "execution_count": 23,
   "metadata": {},
   "outputs": [
    {
     "data": {
      "text/html": [
       "<div>\n",
       "<style scoped>\n",
       "    .dataframe tbody tr th:only-of-type {\n",
       "        vertical-align: middle;\n",
       "    }\n",
       "\n",
       "    .dataframe tbody tr th {\n",
       "        vertical-align: top;\n",
       "    }\n",
       "\n",
       "    .dataframe thead th {\n",
       "        text-align: right;\n",
       "    }\n",
       "</style>\n",
       "<table border=\"1\" class=\"dataframe\">\n",
       "  <thead>\n",
       "    <tr style=\"text-align: right;\">\n",
       "      <th></th>\n",
       "      <th>missing_num</th>\n",
       "      <th>missing_percent</th>\n",
       "      <th>Types</th>\n",
       "    </tr>\n",
       "  </thead>\n",
       "  <tbody>\n",
       "    <tr>\n",
       "      <th>Create Time</th>\n",
       "      <td>0</td>\n",
       "      <td>0.0</td>\n",
       "      <td>object</td>\n",
       "    </tr>\n",
       "    <tr>\n",
       "      <th>Location</th>\n",
       "      <td>0</td>\n",
       "      <td>0.0</td>\n",
       "      <td>object</td>\n",
       "    </tr>\n",
       "    <tr>\n",
       "      <th>Area Id</th>\n",
       "      <td>0</td>\n",
       "      <td>0.0</td>\n",
       "      <td>float64</td>\n",
       "    </tr>\n",
       "    <tr>\n",
       "      <th>Beat</th>\n",
       "      <td>0</td>\n",
       "      <td>0.0</td>\n",
       "      <td>object</td>\n",
       "    </tr>\n",
       "    <tr>\n",
       "      <th>Priority</th>\n",
       "      <td>0</td>\n",
       "      <td>0.0</td>\n",
       "      <td>float64</td>\n",
       "    </tr>\n",
       "    <tr>\n",
       "      <th>Incident Type Id</th>\n",
       "      <td>0</td>\n",
       "      <td>0.0</td>\n",
       "      <td>object</td>\n",
       "    </tr>\n",
       "    <tr>\n",
       "      <th>Incident Type Description</th>\n",
       "      <td>0</td>\n",
       "      <td>0.0</td>\n",
       "      <td>object</td>\n",
       "    </tr>\n",
       "    <tr>\n",
       "      <th>Event Number</th>\n",
       "      <td>0</td>\n",
       "      <td>0.0</td>\n",
       "      <td>object</td>\n",
       "    </tr>\n",
       "    <tr>\n",
       "      <th>Closed Time</th>\n",
       "      <td>0</td>\n",
       "      <td>0.0</td>\n",
       "      <td>object</td>\n",
       "    </tr>\n",
       "  </tbody>\n",
       "</table>\n",
       "</div>"
      ],
      "text/plain": [
       "                           missing_num  missing_percent    Types\n",
       "Create Time                          0              0.0   object\n",
       "Location                             0              0.0   object\n",
       "Area Id                              0              0.0  float64\n",
       "Beat                                 0              0.0   object\n",
       "Priority                             0              0.0  float64\n",
       "Incident Type Id                     0              0.0   object\n",
       "Incident Type Description            0              0.0   object\n",
       "Event Number                         0              0.0   object\n",
       "Closed Time                          0              0.0   object"
      ]
     },
     "execution_count": 23,
     "metadata": {},
     "output_type": "execute_result"
    }
   ],
   "source": [
    "#处理缺失数据后的数据展示\n",
    "missing_data(del_null_data)"
   ]
  },
  {
   "cell_type": "code",
   "execution_count": 24,
   "metadata": {},
   "outputs": [
    {
     "data": {
      "image/png": "[encoded data removed]",
      "text/plain": [
       "<Figure size 720x720 with 6 Axes>"
      ]
     },
     "metadata": {
      "needs_background": "light"
     },
     "output_type": "display_data"
    }
   ],
   "source": [
    "# Area Id 可视化对比新旧数据\n",
    "\n",
    "plt.figure(figsize = (10,10))\n",
    "\n",
    "#直方图\n",
    "plt.subplot(3,2,1)\n",
    "plt.title(\"Area Id hist\")\n",
    "data['Area Id'].hist(alpha=0.5,bins=15) #alpha透明度，bins竖条数\n",
    "\n",
    "#直方图\n",
    "plt.subplot(3,2,2)\n",
    "plt.title(\"new Area Id hist\")\n",
    "del_null_data['Area Id'].hist(alpha=0.5,bins=15) #alpha透明度，bins竖条数\n",
    "\n",
    "\n",
    "#盒图\n",
    "plt.subplot(3,2,3)\n",
    "plt.title(\"Area Id box\")\n",
    "data['Area Id'].plot(kind='box',notch=True,grid=True)\n",
    "\n",
    "#盒图\n",
    "plt.subplot(3,2,4)\n",
    "plt.title(\"new Area Id box\")\n",
    "del_null_data['Area Id'].plot(kind='box',notch=True,grid=True)\n",
    "\n",
    "#q-q图\n",
    "plt.subplot(3,2,5)\n",
    "stats.probplot(data['Area Id'],dist=\"norm\",plot=plt)\n",
    "\n",
    "plt.subplot(3,2,6)\n",
    "stats.probplot(del_null_data['Area Id'],dist=\"norm\",plot=plt)\n",
    "\n",
    "plt.show()"
   ]
  },
  {
   "cell_type": "code",
   "execution_count": 25,
   "metadata": {},
   "outputs": [
    {
     "data": {
      "image/png": "[encoded data removed]",
      "text/plain": [
       "<Figure size 720x720 with 6 Axes>"
      ]
     },
     "metadata": {
      "needs_background": "light"
     },
     "output_type": "display_data"
    }
   ],
   "source": [
    "# Priority 可视化对比新旧数据\n",
    "\n",
    "plt.figure(figsize = (10,10))\n",
    "\n",
    "#直方图\n",
    "plt.subplot(3,2,1)\n",
    "plt.title(\"Priority hist\")\n",
    "data['Priority'].hist(alpha=0.5,bins=15) #alpha透明度，bins竖条数\n",
    "\n",
    "#直方图\n",
    "plt.subplot(3,2,2)\n",
    "plt.title(\"new Priority hist\")\n",
    "del_null_data['Priority'].hist(alpha=0.5,bins=15) #alpha透明度，bins竖条数\n",
    "\n",
    "\n",
    "#盒图\n",
    "plt.subplot(3,2,3)\n",
    "plt.title(\"Priority box\")\n",
    "data['Priority'].plot(kind='box',notch=True,grid=True)\n",
    "\n",
    "#盒图\n",
    "plt.subplot(3,2,4)\n",
    "plt.title(\"new Priority box\")\n",
    "del_null_data['Priority'].plot(kind='box',notch=True,grid=True)\n",
    "\n",
    "#q-q图\n",
    "plt.subplot(3,2,5)\n",
    "stats.probplot(data['Priority'],dist=\"norm\",plot=plt)\n",
    "\n",
    "plt.subplot(3,2,6)\n",
    "stats.probplot(del_null_data['Priority'],dist=\"norm\",plot=plt)\n",
    "\n",
    "plt.show()"
   ]
  },
  {
   "cell_type": "code",
   "execution_count": 26,
   "metadata": {},
   "outputs": [
    {
     "data": {
      "text/html": [
       "<div>\n",
       "<style scoped>\n",
       "    .dataframe tbody tr th:only-of-type {\n",
       "        vertical-align: middle;\n",
       "    }\n",
       "\n",
       "    .dataframe tbody tr th {\n",
       "        vertical-align: top;\n",
       "    }\n",
       "\n",
       "    .dataframe thead th {\n",
       "        text-align: right;\n",
       "    }\n",
       "</style>\n",
       "<table border=\"1\" class=\"dataframe\">\n",
       "  <thead>\n",
       "    <tr style=\"text-align: right;\">\n",
       "      <th></th>\n",
       "      <th>Area Id</th>\n",
       "      <th>Priority</th>\n",
       "    </tr>\n",
       "  </thead>\n",
       "  <tbody>\n",
       "    <tr>\n",
       "      <th>count</th>\n",
       "      <td>178771.000000</td>\n",
       "      <td>178771.000000</td>\n",
       "    </tr>\n",
       "    <tr>\n",
       "      <th>mean</th>\n",
       "      <td>1.740898</td>\n",
       "      <td>1.795252</td>\n",
       "    </tr>\n",
       "    <tr>\n",
       "      <th>std</th>\n",
       "      <td>0.746487</td>\n",
       "      <td>0.403546</td>\n",
       "    </tr>\n",
       "    <tr>\n",
       "      <th>min</th>\n",
       "      <td>1.000000</td>\n",
       "      <td>0.000000</td>\n",
       "    </tr>\n",
       "    <tr>\n",
       "      <th>25%</th>\n",
       "      <td>1.000000</td>\n",
       "      <td>2.000000</td>\n",
       "    </tr>\n",
       "    <tr>\n",
       "      <th>50%</th>\n",
       "      <td>2.000000</td>\n",
       "      <td>2.000000</td>\n",
       "    </tr>\n",
       "    <tr>\n",
       "      <th>75%</th>\n",
       "      <td>2.000000</td>\n",
       "      <td>2.000000</td>\n",
       "    </tr>\n",
       "    <tr>\n",
       "      <th>max</th>\n",
       "      <td>3.000000</td>\n",
       "      <td>2.000000</td>\n",
       "    </tr>\n",
       "  </tbody>\n",
       "</table>\n",
       "</div>"
      ],
      "text/plain": [
       "             Area Id       Priority\n",
       "count  178771.000000  178771.000000\n",
       "mean        1.740898       1.795252\n",
       "std         0.746487       0.403546\n",
       "min         1.000000       0.000000\n",
       "25%         1.000000       2.000000\n",
       "50%         2.000000       2.000000\n",
       "75%         2.000000       2.000000\n",
       "max         3.000000       2.000000"
      ]
     },
     "execution_count": 26,
     "metadata": {},
     "output_type": "execute_result"
    }
   ],
   "source": [
    "del_null_data[['Area Id','Priority']].describe()  #缺失部分剔除后数据的5数概况"
   ]
  },
  {
   "cell_type": "markdown",
   "metadata": {},
   "source": [
    "缺失部分剔除后\n",
    "\n",
    "Area Id:最大值3，最小值1，均值1.74，中位数2，四分位数[1,2,2],缺失值个数为0\n",
    "\n",
    "Priority:最大值2，最小值0，均值1.80，中位数2，四分位数[2,2,2],缺失值个数为0"
   ]
  },
  {
   "cell_type": "markdown",
   "metadata": {},
   "source": [
    "## 用最高频率值来填补缺失值"
   ]
  },
  {
   "cell_type": "code",
   "execution_count": 27,
   "metadata": {},
   "outputs": [],
   "source": [
    "#用最高频率来填补缺失值--此处使用深拷贝，否则会改变原值\n",
    "fill_data_with_most_frequency = data.copy(deep=True)\n",
    "#对'Area Id'进行最高频率值填补缺失值\n",
    "word_counts = Counter(fill_data_with_most_frequency['Area Id'])\n",
    "top = word_counts.most_common(1)[0][0]\n",
    "fill_data_with_most_frequency['Area Id'] = fill_data_with_most_frequency['Area Id'].fillna(top)\n",
    "\n",
    "\n",
    "#对'Area Id'进行最高频率值填补缺失值\n",
    "word_counts = Counter(fill_data_with_most_frequency['Priority'])\n",
    "top = word_counts.most_common(1)[0][0]\n",
    "fill_data_with_most_frequency['Priority'] = fill_data_with_most_frequency['Priority'].fillna(top)"
   ]
  },
  {
   "cell_type": "code",
   "execution_count": 28,
   "metadata": {},
   "outputs": [
    {
     "data": {
      "text/html": [
       "<div>\n",
       "<style scoped>\n",
       "    .dataframe tbody tr th:only-of-type {\n",
       "        vertical-align: middle;\n",
       "    }\n",
       "\n",
       "    .dataframe tbody tr th {\n",
       "        vertical-align: top;\n",
       "    }\n",
       "\n",
       "    .dataframe thead th {\n",
       "        text-align: right;\n",
       "    }\n",
       "</style>\n",
       "<table border=\"1\" class=\"dataframe\">\n",
       "  <thead>\n",
       "    <tr style=\"text-align: right;\">\n",
       "      <th></th>\n",
       "      <th>missing_num</th>\n",
       "      <th>missing_percent</th>\n",
       "      <th>Types</th>\n",
       "    </tr>\n",
       "  </thead>\n",
       "  <tbody>\n",
       "    <tr>\n",
       "      <th>Create Time</th>\n",
       "      <td>1</td>\n",
       "      <td>0.000556</td>\n",
       "      <td>object</td>\n",
       "    </tr>\n",
       "    <tr>\n",
       "      <th>Location</th>\n",
       "      <td>0</td>\n",
       "      <td>0.000000</td>\n",
       "      <td>object</td>\n",
       "    </tr>\n",
       "    <tr>\n",
       "      <th>Area Id</th>\n",
       "      <td>0</td>\n",
       "      <td>0.000000</td>\n",
       "      <td>float64</td>\n",
       "    </tr>\n",
       "    <tr>\n",
       "      <th>Beat</th>\n",
       "      <td>520</td>\n",
       "      <td>0.288863</td>\n",
       "      <td>object</td>\n",
       "    </tr>\n",
       "    <tr>\n",
       "      <th>Priority</th>\n",
       "      <td>0</td>\n",
       "      <td>0.000000</td>\n",
       "      <td>float64</td>\n",
       "    </tr>\n",
       "    <tr>\n",
       "      <th>Incident Type Id</th>\n",
       "      <td>1</td>\n",
       "      <td>0.000556</td>\n",
       "      <td>object</td>\n",
       "    </tr>\n",
       "    <tr>\n",
       "      <th>Incident Type Description</th>\n",
       "      <td>1</td>\n",
       "      <td>0.000556</td>\n",
       "      <td>object</td>\n",
       "    </tr>\n",
       "    <tr>\n",
       "      <th>Event Number</th>\n",
       "      <td>1</td>\n",
       "      <td>0.000556</td>\n",
       "      <td>object</td>\n",
       "    </tr>\n",
       "    <tr>\n",
       "      <th>Closed Time</th>\n",
       "      <td>7</td>\n",
       "      <td>0.003889</td>\n",
       "      <td>object</td>\n",
       "    </tr>\n",
       "  </tbody>\n",
       "</table>\n",
       "</div>"
      ],
      "text/plain": [
       "                           missing_num  missing_percent    Types\n",
       "Create Time                          1         0.000556   object\n",
       "Location                             0         0.000000   object\n",
       "Area Id                              0         0.000000  float64\n",
       "Beat                               520         0.288863   object\n",
       "Priority                             0         0.000000  float64\n",
       "Incident Type Id                     1         0.000556   object\n",
       "Incident Type Description            1         0.000556   object\n",
       "Event Number                         1         0.000556   object\n",
       "Closed Time                          7         0.003889   object"
      ]
     },
     "execution_count": 28,
     "metadata": {},
     "output_type": "execute_result"
    }
   ],
   "source": [
    "#查看填充后是否还有数据缺失\n",
    "missing_data(fill_data_with_most_frequency)"
   ]
  },
  {
   "cell_type": "code",
   "execution_count": 29,
   "metadata": {},
   "outputs": [
    {
     "data": {
      "image/png": "[encoded data removed]",
      "text/plain": [
       "<Figure size 720x720 with 6 Axes>"
      ]
     },
     "metadata": {
      "needs_background": "light"
     },
     "output_type": "display_data"
    }
   ],
   "source": [
    "#Area Id 可视化对比新旧数据\n",
    "\n",
    "plt.figure(figsize = (10,10))\n",
    "\n",
    "#直方图\n",
    "plt.subplot(3,2,1)\n",
    "plt.title(\"Area Id hist\")\n",
    "data['Area Id'].hist(alpha=0.5,bins=15) #alpha透明度，bins竖条数\n",
    "\n",
    "#直方图\n",
    "plt.subplot(3,2,2)\n",
    "plt.title(\"new Area Id hist\")\n",
    "fill_data_with_most_frequency['Area Id'].hist(alpha=0.5,bins=15) #alpha透明度，bins竖条数\n",
    "\n",
    "\n",
    "#盒图\n",
    "plt.subplot(3,2,3)\n",
    "plt.title(\"Area Id box\")\n",
    "data['Area Id'].plot(kind='box',notch=True,grid=True)\n",
    "\n",
    "#盒图\n",
    "plt.subplot(3,2,4)\n",
    "plt.title(\"new Area Id box\")\n",
    "fill_data_with_most_frequency['Area Id'].plot(kind='box',notch=True,grid=True)\n",
    "\n",
    "#q-q图\n",
    "plt.subplot(3,2,5)\n",
    "stats.probplot(data['Area Id'],dist=\"norm\",plot=plt)\n",
    "\n",
    "plt.subplot(3,2,6)\n",
    "stats.probplot(fill_data_with_most_frequency['Area Id'],dist=\"norm\",plot=plt)\n",
    "\n",
    "plt.show()"
   ]
  },
  {
   "cell_type": "code",
   "execution_count": 30,
   "metadata": {},
   "outputs": [
    {
     "data": {
      "image/png": "[encoded data removed]",
      "text/plain": [
       "<Figure size 720x720 with 6 Axes>"
      ]
     },
     "metadata": {
      "needs_background": "light"
     },
     "output_type": "display_data"
    }
   ],
   "source": [
    "#Priority 可视化对比新旧数据\n",
    "\n",
    "plt.figure(figsize = (10,10))\n",
    "\n",
    "#直方图\n",
    "plt.subplot(3,2,1)\n",
    "plt.title(\"Priority hist\")\n",
    "data['Priority'].hist(alpha=0.5,bins=15) #alpha透明度，bins竖条数\n",
    "\n",
    "#直方图\n",
    "plt.subplot(3,2,2)\n",
    "plt.title(\"new Priority hist\")\n",
    "fill_data_with_most_frequency['Priority'].hist(alpha=0.5,bins=15) #alpha透明度，bins竖条数\n",
    "\n",
    "\n",
    "#盒图\n",
    "plt.subplot(3,2,3)\n",
    "plt.title(\"Priority box\")\n",
    "data['Priority'].plot(kind='box',notch=True,grid=True)\n",
    "\n",
    "#盒图\n",
    "plt.subplot(3,2,4)\n",
    "plt.title(\"new Priority box\")\n",
    "fill_data_with_most_frequency['Priority'].plot(kind='box',notch=True,grid=True)\n",
    "\n",
    "#q-q图\n",
    "plt.subplot(3,2,5)\n",
    "stats.probplot(data['Priority'],dist=\"norm\",plot=plt)\n",
    "\n",
    "plt.subplot(3,2,6)\n",
    "stats.probplot(fill_data_with_most_frequency['Priority'],dist=\"norm\",plot=plt)\n",
    "\n",
    "plt.show()"
   ]
  },
  {
   "cell_type": "code",
   "execution_count": 31,
   "metadata": {},
   "outputs": [
    {
     "data": {
      "text/html": [
       "<div>\n",
       "<style scoped>\n",
       "    .dataframe tbody tr th:only-of-type {\n",
       "        vertical-align: middle;\n",
       "    }\n",
       "\n",
       "    .dataframe tbody tr th {\n",
       "        vertical-align: top;\n",
       "    }\n",
       "\n",
       "    .dataframe thead th {\n",
       "        text-align: right;\n",
       "    }\n",
       "</style>\n",
       "<table border=\"1\" class=\"dataframe\">\n",
       "  <thead>\n",
       "    <tr style=\"text-align: right;\">\n",
       "      <th></th>\n",
       "      <th>Area Id</th>\n",
       "      <th>Priority</th>\n",
       "    </tr>\n",
       "  </thead>\n",
       "  <tbody>\n",
       "    <tr>\n",
       "      <th>count</th>\n",
       "      <td>180016.000000</td>\n",
       "      <td>180016.000000</td>\n",
       "    </tr>\n",
       "    <tr>\n",
       "      <th>mean</th>\n",
       "      <td>1.736929</td>\n",
       "      <td>1.796113</td>\n",
       "    </tr>\n",
       "    <tr>\n",
       "      <th>std</th>\n",
       "      <td>0.746430</td>\n",
       "      <td>0.402915</td>\n",
       "    </tr>\n",
       "    <tr>\n",
       "      <th>min</th>\n",
       "      <td>1.000000</td>\n",
       "      <td>0.000000</td>\n",
       "    </tr>\n",
       "    <tr>\n",
       "      <th>25%</th>\n",
       "      <td>1.000000</td>\n",
       "      <td>2.000000</td>\n",
       "    </tr>\n",
       "    <tr>\n",
       "      <th>50%</th>\n",
       "      <td>2.000000</td>\n",
       "      <td>2.000000</td>\n",
       "    </tr>\n",
       "    <tr>\n",
       "      <th>75%</th>\n",
       "      <td>2.000000</td>\n",
       "      <td>2.000000</td>\n",
       "    </tr>\n",
       "    <tr>\n",
       "      <th>max</th>\n",
       "      <td>3.000000</td>\n",
       "      <td>2.000000</td>\n",
       "    </tr>\n",
       "  </tbody>\n",
       "</table>\n",
       "</div>"
      ],
      "text/plain": [
       "             Area Id       Priority\n",
       "count  180016.000000  180016.000000\n",
       "mean        1.736929       1.796113\n",
       "std         0.746430       0.402915\n",
       "min         1.000000       0.000000\n",
       "25%         1.000000       2.000000\n",
       "50%         2.000000       2.000000\n",
       "75%         2.000000       2.000000\n",
       "max         3.000000       2.000000"
      ]
     },
     "execution_count": 31,
     "metadata": {},
     "output_type": "execute_result"
    }
   ],
   "source": [
    "#对填充后的新数据进行描述\n",
    "fill_data_with_most_frequency[['Area Id','Priority']].describe()"
   ]
  },
  {
   "cell_type": "markdown",
   "metadata": {},
   "source": [
    "## 通过属性的相关关系来填补缺失值"
   ]
  },
  {
   "cell_type": "code",
   "execution_count": 32,
   "metadata": {},
   "outputs": [
    {
     "data": {
      "text/html": [
       "<div>\n",
       "<style scoped>\n",
       "    .dataframe tbody tr th:only-of-type {\n",
       "        vertical-align: middle;\n",
       "    }\n",
       "\n",
       "    .dataframe tbody tr th {\n",
       "        vertical-align: top;\n",
       "    }\n",
       "\n",
       "    .dataframe thead th {\n",
       "        text-align: right;\n",
       "    }\n",
       "</style>\n",
       "<table border=\"1\" class=\"dataframe\">\n",
       "  <thead>\n",
       "    <tr style=\"text-align: right;\">\n",
       "      <th></th>\n",
       "      <th>Area Id</th>\n",
       "      <th>Priority</th>\n",
       "    </tr>\n",
       "  </thead>\n",
       "  <tbody>\n",
       "    <tr>\n",
       "      <th>Area Id</th>\n",
       "      <td>1.000000</td>\n",
       "      <td>-0.023366</td>\n",
       "    </tr>\n",
       "    <tr>\n",
       "      <th>Priority</th>\n",
       "      <td>-0.023366</td>\n",
       "      <td>1.000000</td>\n",
       "    </tr>\n",
       "  </tbody>\n",
       "</table>\n",
       "</div>"
      ],
      "text/plain": [
       "           Area Id  Priority\n",
       "Area Id   1.000000 -0.023366\n",
       "Priority -0.023366  1.000000"
      ]
     },
     "execution_count": 32,
     "metadata": {},
     "output_type": "execute_result"
    }
   ],
   "source": [
    "#查看相关的属性关系\n",
    "data.corr()"
   ]
  },
  {
   "cell_type": "code",
   "execution_count": 33,
   "metadata": {},
   "outputs": [],
   "source": [
    "#通过属性的相关关系来填补缺失值\n",
    "target_data = data['Area Id'].copy(deep=True)\n",
    "source_data = data['Priority'].copy(deep=True)\n",
    "\n",
    "flag1 = target_data.isnull().values\n",
    "flag2 = source_data.isnull().values\n",
    "\n",
    "i=0\n",
    "for _,value in target_data.iteritems():\n",
    "    if(flag1[i]==True) and (flag2[i]==False):\n",
    "        target_data[i] = 3 - source_data[i]\n",
    "    i=i+1\n"
   ]
  },
  {
   "cell_type": "code",
   "execution_count": 34,
   "metadata": {},
   "outputs": [
    {
     "data": {
      "image/png": "[encoded data removed]",
      "text/plain": [
       "<Figure size 720x720 with 6 Axes>"
      ]
     },
     "metadata": {
      "needs_background": "light"
     },
     "output_type": "display_data"
    }
   ],
   "source": [
    "#Area Id 可视化对比新旧数据\n",
    "\n",
    "plt.figure(figsize = (10,10))\n",
    "\n",
    "#直方图\n",
    "plt.subplot(3,2,1)\n",
    "plt.title(\"Area Id hist\")\n",
    "data['Area Id'].hist(alpha=0.5,bins=15) #alpha透明度，bins竖条数\n",
    "\n",
    "#直方图\n",
    "plt.subplot(3,2,2)\n",
    "plt.title(\"new Area Id hist\")\n",
    "target_data.hist(alpha=0.5,bins=15) #alpha透明度，bins竖条数\n",
    "\n",
    "\n",
    "#盒图\n",
    "plt.subplot(3,2,3)\n",
    "plt.title(\"Area Id box\")\n",
    "data['Area Id'].plot(kind='box',notch=True,grid=True)\n",
    "\n",
    "#盒图\n",
    "plt.subplot(3,2,4)\n",
    "plt.title(\"new Area Id box\")\n",
    "target_data.plot(kind='box',notch=True,grid=True)\n",
    "\n",
    "#q-q图\n",
    "plt.subplot(3,2,5)\n",
    "stats.probplot(data['Area Id'],dist=\"norm\",plot=plt)\n",
    "\n",
    "plt.subplot(3,2,6)\n",
    "stats.probplot(target_data,dist=\"norm\",plot=plt)\n",
    "\n",
    "plt.show()"
   ]
  },
  {
   "cell_type": "code",
   "execution_count": 35,
   "metadata": {},
   "outputs": [
    {
     "data": {
      "text/plain": [
       "count    180015.000000\n",
       "mean          1.737089\n",
       "std           0.746381\n",
       "min           1.000000\n",
       "25%           1.000000\n",
       "50%           2.000000\n",
       "75%           2.000000\n",
       "max           3.000000\n",
       "Name: Area Id, dtype: float64"
      ]
     },
     "execution_count": 35,
     "metadata": {},
     "output_type": "execute_result"
    }
   ],
   "source": [
    "#补充后的Area Id数据描述\n",
    "target_data.describe()"
   ]
  },
  {
   "cell_type": "code",
   "execution_count": 36,
   "metadata": {},
   "outputs": [],
   "source": [
    "#通过属性的相关关系来填补Priority缺失值\n",
    "target_data = data['Priority'].copy(deep=True)\n",
    "source_data = data['Area Id'].copy(deep=True)\n",
    "\n",
    "flag1 = target_data.isnull().values\n",
    "flag2 = source_data.isnull().values\n",
    "\n",
    "i=0\n",
    "for _,value in target_data.iteritems():\n",
    "    if(flag1[i]==True) and (flag2[i]==False):\n",
    "        target_data[i] = 3 - source_data[i]\n",
    "    i=i+1"
   ]
  },
  {
   "cell_type": "code",
   "execution_count": 37,
   "metadata": {},
   "outputs": [
    {
     "data": {
      "image/png": "[encoded data removed]",
      "text/plain": [
       "<Figure size 720x720 with 6 Axes>"
      ]
     },
     "metadata": {
      "needs_background": "light"
     },
     "output_type": "display_data"
    }
   ],
   "source": [
    "#Priority可视化对比新旧数据\n",
    "\n",
    "plt.figure(figsize = (10,10))\n",
    "\n",
    "#直方图\n",
    "plt.subplot(3,2,1)\n",
    "plt.title(\"Priority hist\")\n",
    "data['Priority'].hist(alpha=0.5,bins=15) #alpha透明度，bins竖条数\n",
    "\n",
    "#直方图\n",
    "plt.subplot(3,2,2)\n",
    "plt.title(\"new Priority hist\")\n",
    "target_data.hist(alpha=0.5,bins=15) #alpha透明度，bins竖条数\n",
    "\n",
    "\n",
    "#盒图\n",
    "plt.subplot(3,2,3)\n",
    "plt.title(\"Priority box\")\n",
    "data['Priority'].plot(kind='box',notch=True,grid=True)\n",
    "\n",
    "#盒图\n",
    "plt.subplot(3,2,4)\n",
    "plt.title(\"new Priority box\")\n",
    "target_data.plot(kind='box',notch=True,grid=True)\n",
    "\n",
    "#q-q图\n",
    "plt.subplot(3,2,5)\n",
    "stats.probplot(data['Priority'],dist=\"norm\",plot=plt)\n",
    "\n",
    "plt.subplot(3,2,6)\n",
    "stats.probplot(target_data,dist=\"norm\",plot=plt)\n",
    "\n",
    "plt.show()"
   ]
  },
  {
   "cell_type": "code",
   "execution_count": 38,
   "metadata": {},
   "outputs": [
    {
     "data": {
      "text/plain": [
       "count    180015.000000\n",
       "mean          1.796111\n",
       "std           0.402916\n",
       "min           0.000000\n",
       "25%           2.000000\n",
       "50%           2.000000\n",
       "75%           2.000000\n",
       "max           2.000000\n",
       "Name: Priority, dtype: float64"
      ]
     },
     "execution_count": 38,
     "metadata": {},
     "output_type": "execute_result"
    }
   ],
   "source": [
    "#补充后的Priority数据描述\n",
    "target_data.describe()"
   ]
  },
  {
   "cell_type": "markdown",
   "metadata": {},
   "source": [
    "## 通过对象的相似性填补缺失值"
   ]
  },
  {
   "cell_type": "code",
   "execution_count": 39,
   "metadata": {},
   "outputs": [
    {
     "name": "stdout",
     "output_type": "stream",
     "text": [
      "空数据数量为: 904\n"
     ]
    }
   ],
   "source": [
    "numeric_attr = ['Area Id','Priority']\n",
    "#查找两个对象间的相似性\n",
    "#如果通过暴力法求解耗时耗力\n",
    "#所以选择通过二分法查找的方法进行相似性选择\n",
    "\n",
    "def find_dis_value(dataset, pos, numeric_attr):\n",
    "    def dis_objs(tar_obj_index, sou_obj_index):\n",
    "        tar_obj = dataset.iloc[tar_obj_index]\n",
    "        sou_obj = dataset.iloc[sou_obj_index]\n",
    "        dis_value = 0\n",
    "        for column in tar_obj.index:\n",
    "            if column == 'Priority':\n",
    "                if (not math.isnan(tar_obj[column])) and (not math.isnan(sou_obj[column])):                 \n",
    "                    dis_value += sou_obj[column] - tar_obj[column]                \n",
    "                else:\n",
    "                    dis_value += 9998\n",
    "        return dis_value\n",
    "\n",
    "    \n",
    "    mindis = 9999\n",
    "    result_pos = -1\n",
    "    leftindex = 0;\n",
    "    rightindex = dataset.shape[0]-1\n",
    "    #二分查找返回最近距离的一个result_pos\n",
    "    while leftindex<=rightindex:\n",
    "        midindex = int((leftindex+rightindex)/2)\n",
    "        tmpdis = dis_objs(pos,midindex)        \n",
    "        if(tmpdis>0):\n",
    "            rightindex = midindex-1            \n",
    "        elif(tmpdis == 0):\n",
    "            result_pos = midindex\n",
    "            break;\n",
    "        else:\n",
    "            leftindex = midindex+1        \n",
    "        if(tmpdis<mindis):\n",
    "            result_pos = midindex  \n",
    "    return result_pos\n",
    "\n",
    "\n",
    "\n",
    "\n",
    "# 通过数据对象之间的相似性来填补缺失值\n",
    "numical_datasets = pd.DataFrame(data[numeric_attr].copy(deep=True))\n",
    "\n",
    "#对numical_datasets排序\n",
    "numical_datasets.sort_values(\"Priority\",inplace=True)\n",
    "data_area_id = numical_datasets['Area Id'].copy(deep=True)\n",
    "\n",
    "print('空数据数量为:',data_area_id.isnull().sum())\n",
    "length = numical_datasets.shape[0]\n",
    "count=1;\n",
    "for i in range(length):\n",
    "    if math.isnan(numical_datasets['Area Id'].iloc[i]):       \n",
    "#         print('当前处理第'+str(count)+\"个\")\n",
    "#         print(i,numical_datasets.iloc[i])  \n",
    "        result_pos = find_dis_value(numical_datasets, i, numeric_attr)\n",
    "#         print(result_pos,numical_datasets.iloc[result_pos])\n",
    "        data_area_id.iloc[i] = data_area_id.iloc[result_pos]\n",
    "#         print(i,data_area_id.iloc[i])\n",
    "        count+=1"
   ]
  },
  {
   "cell_type": "code",
   "execution_count": 40,
   "metadata": {},
   "outputs": [
    {
     "name": "stdout",
     "output_type": "stream",
     "text": [
      "0\n"
     ]
    }
   ],
   "source": [
    "#填充后的空数据数量\n",
    "print(data_area_id.isnull().sum())"
   ]
  },
  {
   "cell_type": "code",
   "execution_count": 41,
   "metadata": {},
   "outputs": [
    {
     "data": {
      "image/png": "[encoded data removed]",
      "text/plain": [
       "<Figure size 720x720 with 6 Axes>"
      ]
     },
     "metadata": {
      "needs_background": "light"
     },
     "output_type": "display_data"
    }
   ],
   "source": [
    "#Area Id可视化对比新旧数据\n",
    "\n",
    "plt.figure(figsize = (10,10))\n",
    "\n",
    "#直方图\n",
    "plt.subplot(3,2,1)\n",
    "plt.title(\"Area Id hist\")\n",
    "data['Area Id'].hist(alpha=0.5,bins=15) #alpha透明度，bins竖条数\n",
    "\n",
    "#直方图\n",
    "plt.subplot(3,2,2)\n",
    "plt.title(\"new Area Id hist\")\n",
    "data_area_id.hist(alpha=0.5,bins=15) #alpha透明度，bins竖条数\n",
    "\n",
    "\n",
    "#盒图\n",
    "plt.subplot(3,2,3)\n",
    "plt.title(\"Area Id box\")\n",
    "data['Area Id'].plot(kind='box',notch=True,grid=True)\n",
    "\n",
    "#盒图\n",
    "plt.subplot(3,2,4)\n",
    "plt.title(\"new Area Id box\")\n",
    "data_area_id.plot(kind='box',notch=True,grid=True)\n",
    "\n",
    "#q-q图\n",
    "plt.subplot(3,2,5)\n",
    "stats.probplot(data['Area Id'],dist=\"norm\",plot=plt)\n",
    "\n",
    "plt.subplot(3,2,6)\n",
    "stats.probplot(data_area_id,dist=\"norm\",plot=plt)\n",
    "\n",
    "plt.show()"
   ]
  },
  {
   "cell_type": "code",
   "execution_count": 42,
   "metadata": {},
   "outputs": [
    {
     "data": {
      "text/plain": [
       "count    180016.000000\n",
       "mean          1.741956\n",
       "std           0.744823\n",
       "min           1.000000\n",
       "25%           1.000000\n",
       "50%           2.000000\n",
       "75%           2.000000\n",
       "max           3.000000\n",
       "Name: Area Id, dtype: float64"
      ]
     },
     "execution_count": 42,
     "metadata": {},
     "output_type": "execute_result"
    }
   ],
   "source": [
    "#area id的数据描述\n",
    "data_area_id.describe()  # #通过数据对象之间的相似性来填补后数据的5数概况"
   ]
  },
  {
   "cell_type": "markdown",
   "metadata": {},
   "source": [
    "通过相似性填补后\n",
    "\n",
    "Area Id:最大值3，最小值1，均值1.74，中位数2，四分位数[1,2,2],缺失值个数为0"
   ]
  },
  {
   "cell_type": "code",
   "execution_count": 43,
   "metadata": {},
   "outputs": [
    {
     "name": "stdout",
     "output_type": "stream",
     "text": [
      "空数据数量为: 1\n"
     ]
    }
   ],
   "source": [
    "#使用id 对 priority进行填补\n",
    "numeric_attr = ['Area Id','Priority']\n",
    "#查找两个对象间的相似性\n",
    "#如果通过暴力法求解耗时耗力\n",
    "#所以选择通过二分法查找的方法进行相似性选择\n",
    "\n",
    "def find_dis_value(dataset, pos, numeric_attr):\n",
    "    def dis_objs(tar_obj_index, sou_obj_index):\n",
    "        tar_obj = dataset.iloc[tar_obj_index]\n",
    "        sou_obj = dataset.iloc[sou_obj_index]\n",
    "        dis_value = 0\n",
    "        for column in tar_obj.index:\n",
    "            if column == 'Area Id':\n",
    "                if (not math.isnan(tar_obj[column])) and (not math.isnan(sou_obj[column])):                 \n",
    "                    dis_value += sou_obj[column] - tar_obj[column]                \n",
    "                else:\n",
    "                    dis_value += 9998\n",
    "        return dis_value\n",
    "\n",
    "    \n",
    "    mindis = 9999\n",
    "    result_pos = -1\n",
    "    leftindex = 0;\n",
    "    rightindex = dataset.shape[0]-1\n",
    "    #二分查找返回最近距离的一个result_pos\n",
    "    while leftindex<=rightindex:\n",
    "        midindex = int((leftindex+rightindex)/2)\n",
    "        tmpdis = dis_objs(pos,midindex)        \n",
    "        if(tmpdis>0):\n",
    "            rightindex = midindex-1            \n",
    "        elif(tmpdis == 0):\n",
    "            result_pos = midindex\n",
    "            break;\n",
    "        else:\n",
    "            leftindex = midindex+1        \n",
    "        if(tmpdis<mindis):\n",
    "            result_pos = midindex  \n",
    "    return result_pos\n",
    "\n",
    "\n",
    "\n",
    "\n",
    "# 通过数据对象之间的相似性来填补缺失值\n",
    "numical_datasets = pd.DataFrame(data[numeric_attr].copy(deep=True))\n",
    "\n",
    "#对numical_datasets排序\n",
    "numical_datasets.sort_values(\"Area Id\",inplace=True)\n",
    "data_Priority = numical_datasets['Priority'].copy(deep=True)\n",
    "\n",
    "print('空数据数量为:',data_Priority.isnull().sum())\n",
    "length = numical_datasets.shape[0]\n",
    "count=1;\n",
    "for i in range(length):\n",
    "    if math.isnan(numical_datasets['Priority'].iloc[i]):       \n",
    "#         print('当前处理第'+str(count)+\"个\")\n",
    "#         print(i,numical_datasets.iloc[i])  \n",
    "        result_pos = find_dis_value(numical_datasets, i, numeric_attr)\n",
    "#         print(result_pos,numical_datasets.iloc[result_pos])\n",
    "        data_Priority.iloc[i] = data_Priority.iloc[result_pos]\n",
    "#         print(i,data_area_id.iloc[i])\n",
    "        count+=1"
   ]
  },
  {
   "cell_type": "code",
   "execution_count": 44,
   "metadata": {},
   "outputs": [
    {
     "name": "stdout",
     "output_type": "stream",
     "text": [
      "0\n"
     ]
    }
   ],
   "source": [
    "#补充后的Priority的空数据数量\n",
    "print(data_Priority.isnull().sum())"
   ]
  },
  {
   "cell_type": "code",
   "execution_count": 45,
   "metadata": {},
   "outputs": [
    {
     "data": {
      "image/png": "[encoded data removed]",
      "text/plain": [
       "<Figure size 720x720 with 6 Axes>"
      ]
     },
     "metadata": {
      "needs_background": "light"
     },
     "output_type": "display_data"
    }
   ],
   "source": [
    "#Priority可视化对比新旧数据\n",
    "\n",
    "plt.figure(figsize = (10,10))\n",
    "\n",
    "#直方图\n",
    "plt.subplot(3,2,1)\n",
    "plt.title(\"Priority hist\")\n",
    "data['Priority'].hist(alpha=0.5,bins=15) #alpha透明度，bins竖条数\n",
    "\n",
    "#直方图\n",
    "plt.subplot(3,2,2)\n",
    "plt.title(\"new Priority hist\")\n",
    "data_Priority.hist(alpha=0.5,bins=15) #alpha透明度，bins竖条数\n",
    "\n",
    "\n",
    "#盒图\n",
    "plt.subplot(3,2,3)\n",
    "plt.title(\"Priority box\")\n",
    "data['Priority'].plot(kind='box',notch=True,grid=True)\n",
    "\n",
    "#盒图\n",
    "plt.subplot(3,2,4)\n",
    "plt.title(\"new Priority box\")\n",
    "data_Priority.plot(kind='box',notch=True,grid=True)\n",
    "\n",
    "#q-q图\n",
    "plt.subplot(3,2,5)\n",
    "stats.probplot(data['Priority'],dist=\"norm\",plot=plt)\n",
    "\n",
    "plt.subplot(3,2,6)\n",
    "stats.probplot(data_Priority,dist=\"norm\",plot=plt)\n",
    "\n",
    "plt.show()"
   ]
  },
  {
   "cell_type": "code",
   "execution_count": 46,
   "metadata": {},
   "outputs": [
    {
     "data": {
      "text/plain": [
       "count    180016.000000\n",
       "mean          1.796107\n",
       "std           0.402919\n",
       "min           0.000000\n",
       "25%           2.000000\n",
       "50%           2.000000\n",
       "75%           2.000000\n",
       "max           2.000000\n",
       "Name: Priority, dtype: float64"
      ]
     },
     "execution_count": 46,
     "metadata": {},
     "output_type": "execute_result"
    }
   ],
   "source": [
    "#Priority的数据描述\n",
    "data_Priority.describe()"
   ]
  }
 ],
 "metadata": {
  "kernelspec": {
   "display_name": "Python 3 (ipykernel)",
   "language": "python",
   "name": "python3"
  },
  "language_info": {
   "codemirror_mode": {
    "name": "ipython",
    "version": 3
   },
   "file_extension": ".py",
   "mimetype": "text/x-python",
   "name": "python",
   "nbconvert_exporter": "python",
   "pygments_lexer": "ipython3",
   "version": "3.9.7"
  }
 },
 "nbformat": 4,
 "nbformat_minor": 4
}
