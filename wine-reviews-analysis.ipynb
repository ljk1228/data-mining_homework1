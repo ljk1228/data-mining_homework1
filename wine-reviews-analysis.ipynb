{
 "cells": [
  {
   "cell_type": "markdown",
   "metadata": {
    "papermill": {
     "duration": 0.026838,
     "end_time": "2021-03-28T11:35:09.298650",
     "exception": false,
     "start_time": "2021-03-28T11:35:09.271812",
     "status": "completed"
    },
    "tags": []
   },
   "source": [
    "# 数据挖掘作业一\n",
    "## 姓名：林金坤 学号：3220211034\n",
    "## 数据集：wine-reviews"
   ]
  },
  {
   "cell_type": "code",
   "execution_count": 43,
   "metadata": {
    "_cell_guid": "af176ef0-bf50-4206-bf4b-cbf5b6bfe884",
    "_uuid": "9271c2b3-6290-4c70-9af7-2c366a9c530d",
    "execution": {
     "iopub.execute_input": "2021-03-28T11:35:09.357626Z",
     "iopub.status.busy": "2021-03-28T11:35:09.356801Z",
     "iopub.status.idle": "2021-03-28T11:35:10.252483Z",
     "shell.execute_reply": "2021-03-28T11:35:10.251533Z"
    },
    "papermill": {
     "duration": 0.928266,
     "end_time": "2021-03-28T11:35:10.252738",
     "exception": false,
     "start_time": "2021-03-28T11:35:09.324472",
     "status": "completed"
    },
    "tags": []
   },
   "outputs": [],
   "source": [
    "#导入必要的包\n",
    "import matplotlib.pyplot as plt\n",
    "import pandas as pd\n",
    "import numpy as np\n",
    "from scipy import stats\n",
    "from collections import Counter\n",
    "from math import isnan\n",
    "import math\n"
   ]
  },
  {
   "cell_type": "markdown",
   "metadata": {
    "papermill": {
     "duration": 0.024937,
     "end_time": "2021-03-28T11:35:10.304700",
     "exception": false,
     "start_time": "2021-03-28T11:35:10.279763",
     "status": "completed"
    },
    "tags": []
   },
   "source": [
    "## 查看数据集并对数据集进行了解"
   ]
  },
  {
   "cell_type": "code",
   "execution_count": 79,
   "metadata": {
    "execution": {
     "iopub.execute_input": "2021-03-28T11:35:10.362880Z",
     "iopub.status.busy": "2021-03-28T11:35:10.362169Z",
     "iopub.status.idle": "2021-03-28T11:35:10.377774Z",
     "shell.execute_reply": "2021-03-28T11:35:10.377255Z"
    },
    "papermill": {
     "duration": 0.046194,
     "end_time": "2021-03-28T11:35:10.377936",
     "exception": false,
     "start_time": "2021-03-28T11:35:10.331742",
     "status": "completed"
    },
    "tags": []
   },
   "outputs": [
    {
     "name": "stdout",
     "output_type": "stream",
     "text": [
      "E:/homework-1/data/wine-reviews\\winemag-data-130k-v2.csv\n",
      "E:/homework-1/data/wine-reviews\\winemag-data-130k-v2.json\n",
      "E:/homework-1/data/wine-reviews\\winemag-data_first150k.csv\n"
     ]
    }
   ],
   "source": [
    "#查看当前文件夹下有哪些数据集以及数据集所处的路径\n",
    "import os\n",
    "for dirname, _, filenames in os.walk('E:/homework-1/data/wine-reviews'):\n",
    "    for filename in filenames:\n",
    "        print(os.path.join(dirname, filename))\n",
    "\n",
    "#数据集文件解释，这里我们拿winemag-data_first150k.csv做数据分析        \n",
    "#winemag-data-130k-v2.csv包含10列和13万行葡萄酒评论。\n",
    "#winemag-data_first150k.csv包含10列和15万行葡萄酒评论。\n",
    "#winemag-data-130k-v2.json包含6919个葡萄酒评论节点。"
   ]
  },
  {
   "cell_type": "code",
   "execution_count": 77,
   "metadata": {
    "execution": {
     "iopub.execute_input": "2021-03-28T11:35:10.436454Z",
     "iopub.status.busy": "2021-03-28T11:35:10.435780Z",
     "iopub.status.idle": "2021-03-28T11:35:12.021709Z",
     "shell.execute_reply": "2021-03-28T11:35:12.022203Z"
    },
    "papermill": {
     "duration": 1.617894,
     "end_time": "2021-03-28T11:35:12.022398",
     "exception": false,
     "start_time": "2021-03-28T11:35:10.404504",
     "status": "completed"
    },
    "tags": []
   },
   "outputs": [
    {
     "data": {
      "text/html": [
       "<div>\n",
       "<style scoped>\n",
       "    .dataframe tbody tr th:only-of-type {\n",
       "        vertical-align: middle;\n",
       "    }\n",
       "\n",
       "    .dataframe tbody tr th {\n",
       "        vertical-align: top;\n",
       "    }\n",
       "\n",
       "    .dataframe thead th {\n",
       "        text-align: right;\n",
       "    }\n",
       "</style>\n",
       "<table border=\"1\" class=\"dataframe\">\n",
       "  <thead>\n",
       "    <tr style=\"text-align: right;\">\n",
       "      <th></th>\n",
       "      <th>country</th>\n",
       "      <th>description</th>\n",
       "      <th>designation</th>\n",
       "      <th>points</th>\n",
       "      <th>price</th>\n",
       "      <th>province</th>\n",
       "      <th>region_1</th>\n",
       "      <th>region_2</th>\n",
       "      <th>variety</th>\n",
       "      <th>winery</th>\n",
       "    </tr>\n",
       "  </thead>\n",
       "  <tbody>\n",
       "    <tr>\n",
       "      <th>0</th>\n",
       "      <td>US</td>\n",
       "      <td>This tremendous 100% varietal wine hails from ...</td>\n",
       "      <td>Martha's Vineyard</td>\n",
       "      <td>96</td>\n",
       "      <td>235.0</td>\n",
       "      <td>California</td>\n",
       "      <td>Napa Valley</td>\n",
       "      <td>Napa</td>\n",
       "      <td>Cabernet Sauvignon</td>\n",
       "      <td>Heitz</td>\n",
       "    </tr>\n",
       "    <tr>\n",
       "      <th>1</th>\n",
       "      <td>Spain</td>\n",
       "      <td>Ripe aromas of fig, blackberry and cassis are ...</td>\n",
       "      <td>Carodorum Selección Especial Reserva</td>\n",
       "      <td>96</td>\n",
       "      <td>110.0</td>\n",
       "      <td>Northern Spain</td>\n",
       "      <td>Toro</td>\n",
       "      <td>NaN</td>\n",
       "      <td>Tinta de Toro</td>\n",
       "      <td>Bodega Carmen Rodríguez</td>\n",
       "    </tr>\n",
       "    <tr>\n",
       "      <th>2</th>\n",
       "      <td>US</td>\n",
       "      <td>Mac Watson honors the memory of a wine once ma...</td>\n",
       "      <td>Special Selected Late Harvest</td>\n",
       "      <td>96</td>\n",
       "      <td>90.0</td>\n",
       "      <td>California</td>\n",
       "      <td>Knights Valley</td>\n",
       "      <td>Sonoma</td>\n",
       "      <td>Sauvignon Blanc</td>\n",
       "      <td>Macauley</td>\n",
       "    </tr>\n",
       "    <tr>\n",
       "      <th>3</th>\n",
       "      <td>US</td>\n",
       "      <td>This spent 20 months in 30% new French oak, an...</td>\n",
       "      <td>Reserve</td>\n",
       "      <td>96</td>\n",
       "      <td>65.0</td>\n",
       "      <td>Oregon</td>\n",
       "      <td>Willamette Valley</td>\n",
       "      <td>Willamette Valley</td>\n",
       "      <td>Pinot Noir</td>\n",
       "      <td>Ponzi</td>\n",
       "    </tr>\n",
       "    <tr>\n",
       "      <th>4</th>\n",
       "      <td>France</td>\n",
       "      <td>This is the top wine from La Bégude, named aft...</td>\n",
       "      <td>La Brûlade</td>\n",
       "      <td>95</td>\n",
       "      <td>66.0</td>\n",
       "      <td>Provence</td>\n",
       "      <td>Bandol</td>\n",
       "      <td>NaN</td>\n",
       "      <td>Provence red blend</td>\n",
       "      <td>Domaine de la Bégude</td>\n",
       "    </tr>\n",
       "  </tbody>\n",
       "</table>\n",
       "</div>"
      ],
      "text/plain": [
       "  country                                        description  \\\n",
       "0      US  This tremendous 100% varietal wine hails from ...   \n",
       "1   Spain  Ripe aromas of fig, blackberry and cassis are ...   \n",
       "2      US  Mac Watson honors the memory of a wine once ma...   \n",
       "3      US  This spent 20 months in 30% new French oak, an...   \n",
       "4  France  This is the top wine from La Bégude, named aft...   \n",
       "\n",
       "                            designation  points  price        province  \\\n",
       "0                     Martha's Vineyard      96  235.0      California   \n",
       "1  Carodorum Selección Especial Reserva      96  110.0  Northern Spain   \n",
       "2         Special Selected Late Harvest      96   90.0      California   \n",
       "3                               Reserve      96   65.0          Oregon   \n",
       "4                            La Brûlade      95   66.0        Provence   \n",
       "\n",
       "            region_1           region_2             variety  \\\n",
       "0        Napa Valley               Napa  Cabernet Sauvignon   \n",
       "1               Toro                NaN       Tinta de Toro   \n",
       "2     Knights Valley             Sonoma     Sauvignon Blanc   \n",
       "3  Willamette Valley  Willamette Valley          Pinot Noir   \n",
       "4             Bandol                NaN  Provence red blend   \n",
       "\n",
       "                    winery  \n",
       "0                    Heitz  \n",
       "1  Bodega Carmen Rodríguez  \n",
       "2                 Macauley  \n",
       "3                    Ponzi  \n",
       "4     Domaine de la Bégude  "
      ]
     },
     "execution_count": 77,
     "metadata": {},
     "output_type": "execute_result"
    }
   ],
   "source": [
    "#读取数据集\n",
    "path = 'E:/homework-1/data/wine-reviews/'\n",
    "data = pd.read_csv(path+'winemag-data_first150k.csv',index_col=0)\n",
    "data.head()#默认展示前五行数据\n",
    "\n",
    "# 数据集的含义\n",
    "# 列名----------含义\n",
    "# country     葡萄酒来自的国家\n",
    "# description 描述葡萄酒的味道、气味、外观、感觉等\n",
    "# designation 酿酒厂内的葡萄园，酿造葡萄酒的葡萄来自葡萄园\n",
    "# points      Wine Enthusiast 对葡萄酒的评分为1-100\n",
    "# price       一瓶葡萄酒的成本\n",
    "# province    葡萄酒来自的产地\n",
    "# region_1    葡萄酒来自的产地\n",
    "# region_2    葡萄酒来自的产地\n",
    "# variety     用于酿造葡萄酒的葡萄种类\n",
    "# winery      生产葡萄酒的酿酒厂"
   ]
  },
  {
   "cell_type": "code",
   "execution_count": 46,
   "metadata": {
    "execution": {
     "iopub.execute_input": "2021-03-28T11:35:12.087746Z",
     "iopub.status.busy": "2021-03-28T11:35:12.086480Z",
     "iopub.status.idle": "2021-03-28T11:35:12.089852Z",
     "shell.execute_reply": "2021-03-28T11:35:12.090354Z"
    },
    "papermill": {
     "duration": 0.039492,
     "end_time": "2021-03-28T11:35:12.090530",
     "exception": false,
     "start_time": "2021-03-28T11:35:12.051038",
     "status": "completed"
    },
    "tags": []
   },
   "outputs": [
    {
     "data": {
      "text/plain": [
       "country         object\n",
       "description     object\n",
       "designation     object\n",
       "points           int64\n",
       "price          float64\n",
       "province        object\n",
       "region_1        object\n",
       "region_2        object\n",
       "variety         object\n",
       "winery          object\n",
       "dtype: object"
      ]
     },
     "execution_count": 46,
     "metadata": {},
     "output_type": "execute_result"
    }
   ],
   "source": [
    "data.dtypes #每列数据的数据类型"
   ]
  },
  {
   "cell_type": "code",
   "execution_count": 47,
   "metadata": {
    "execution": {
     "iopub.execute_input": "2021-03-28T11:35:12.152182Z",
     "iopub.status.busy": "2021-03-28T11:35:12.151191Z",
     "iopub.status.idle": "2021-03-28T11:35:12.155502Z",
     "shell.execute_reply": "2021-03-28T11:35:12.155993Z"
    },
    "papermill": {
     "duration": 0.038193,
     "end_time": "2021-03-28T11:35:12.156176",
     "exception": false,
     "start_time": "2021-03-28T11:35:12.117983",
     "status": "completed"
    },
    "tags": []
   },
   "outputs": [
    {
     "data": {
      "text/plain": [
       "(150930, 10)"
      ]
     },
     "execution_count": 47,
     "metadata": {},
     "output_type": "execute_result"
    }
   ],
   "source": [
    "data.shape #数据集的大小"
   ]
  },
  {
   "cell_type": "markdown",
   "metadata": {
    "papermill": {
     "duration": 0.027638,
     "end_time": "2021-03-28T11:35:12.211901",
     "exception": false,
     "start_time": "2021-03-28T11:35:12.184263",
     "status": "completed"
    },
    "tags": []
   },
   "source": [
    "# 数据分析要求"
   ]
  },
  {
   "cell_type": "markdown",
   "metadata": {
    "papermill": {
     "duration": 0.027347,
     "end_time": "2021-03-28T11:35:12.267303",
     "exception": false,
     "start_time": "2021-03-28T11:35:12.239956",
     "status": "completed"
    },
    "tags": []
   },
   "source": [
    "## 数据可视化和摘要\n",
    "\n"
   ]
  },
  {
   "cell_type": "markdown",
   "metadata": {
    "papermill": {
     "duration": 0.027477,
     "end_time": "2021-03-28T11:35:12.322540",
     "exception": false,
     "start_time": "2021-03-28T11:35:12.295063",
     "status": "completed"
    },
    "tags": []
   },
   "source": [
    "### 数据摘要\n",
    "（1）标称属性，给出每个可能聚会的频数"
   ]
  },
  {
   "cell_type": "code",
   "execution_count": 48,
   "metadata": {
    "execution": {
     "iopub.execute_input": "2021-03-28T11:35:12.422218Z",
     "iopub.status.busy": "2021-03-28T11:35:12.421182Z",
     "iopub.status.idle": "2021-03-28T11:35:12.429291Z",
     "shell.execute_reply": "2021-03-28T11:35:12.429934Z"
    },
    "papermill": {
     "duration": 0.079604,
     "end_time": "2021-03-28T11:35:12.430110",
     "exception": false,
     "start_time": "2021-03-28T11:35:12.350506",
     "status": "completed"
    },
    "tags": []
   },
   "outputs": [
    {
     "data": {
      "text/plain": [
       "US                        62397\n",
       "Italy                     23478\n",
       "France                    21098\n",
       "Spain                      8268\n",
       "Chile                      5816\n",
       "Argentina                  5631\n",
       "Portugal                   5322\n",
       "Australia                  4957\n",
       "New Zealand                3320\n",
       "Austria                    3057\n",
       "Germany                    2452\n",
       "South Africa               2258\n",
       "Greece                      884\n",
       "Israel                      630\n",
       "Hungary                     231\n",
       "Canada                      196\n",
       "Romania                     139\n",
       "Slovenia                     94\n",
       "Uruguay                      92\n",
       "Croatia                      89\n",
       "Bulgaria                     77\n",
       "Moldova                      71\n",
       "Mexico                       63\n",
       "Turkey                       52\n",
       "Georgia                      43\n",
       "Lebanon                      37\n",
       "Cyprus                       31\n",
       "Brazil                       25\n",
       "Macedonia                    16\n",
       "Serbia                       14\n",
       "Morocco                      12\n",
       "England                       9\n",
       "Luxembourg                    9\n",
       "Lithuania                     8\n",
       "India                         8\n",
       "Czech Republic                6\n",
       "Ukraine                       5\n",
       "Switzerland                   4\n",
       "South Korea                   4\n",
       "Bosnia and Herzegovina        4\n",
       "China                         3\n",
       "Egypt                         3\n",
       "Slovakia                      3\n",
       "Tunisia                       2\n",
       "Albania                       2\n",
       "Montenegro                    2\n",
       "Japan                         2\n",
       "US-France                     1\n",
       "Name: country, dtype: int64"
      ]
     },
     "execution_count": 48,
     "metadata": {},
     "output_type": "execute_result"
    }
   ],
   "source": [
    "#由上面对数据集各列进行分析得知，该数据集的标称属性有'country','designation','province','region_1','region_2',\n",
    "#'variety','winery'七个标称属性\n",
    "#下面给出每个属性取值的频数\n",
    "#(1)country\n",
    "pd.value_counts(data['country'])"
   ]
  },
  {
   "cell_type": "code",
   "execution_count": 49,
   "metadata": {
    "execution": {
     "iopub.execute_input": "2021-03-28T11:35:12.541492Z",
     "iopub.status.busy": "2021-03-28T11:35:12.527456Z",
     "iopub.status.idle": "2021-03-28T11:35:12.560403Z",
     "shell.execute_reply": "2021-03-28T11:35:12.559756Z"
    },
    "papermill": {
     "duration": 0.102009,
     "end_time": "2021-03-28T11:35:12.560547",
     "exception": false,
     "start_time": "2021-03-28T11:35:12.458538",
     "status": "completed"
    },
    "tags": []
   },
   "outputs": [
    {
     "data": {
      "text/plain": [
       "Reserve                                   2752\n",
       "Reserva                                   1810\n",
       "Estate                                    1571\n",
       "Barrel sample                             1326\n",
       "Riserva                                    754\n",
       "                                          ... \n",
       "Domaine Saint-Sernin Fare Saint-Sernin       1\n",
       "The Score                                    1\n",
       "La Terraza Bloc Reserve                      1\n",
       "Alte d'Altesi                                1\n",
       "Bungalow Red                                 1\n",
       "Name: designation, Length: 30621, dtype: int64"
      ]
     },
     "execution_count": 49,
     "metadata": {},
     "output_type": "execute_result"
    }
   ],
   "source": [
    "#(2) designation\n",
    "pd.value_counts(data['designation'])"
   ]
  },
  {
   "cell_type": "code",
   "execution_count": 50,
   "metadata": {
    "execution": {
     "iopub.execute_input": "2021-03-28T11:35:12.662555Z",
     "iopub.status.busy": "2021-03-28T11:35:12.659204Z",
     "iopub.status.idle": "2021-03-28T11:35:12.669769Z",
     "shell.execute_reply": "2021-03-28T11:35:12.669160Z"
    },
    "papermill": {
     "duration": 0.080475,
     "end_time": "2021-03-28T11:35:12.669944",
     "exception": false,
     "start_time": "2021-03-28T11:35:12.589469",
     "status": "completed"
    },
    "tags": []
   },
   "outputs": [
    {
     "data": {
      "text/plain": [
       "California                       44508\n",
       "Washington                        9750\n",
       "Tuscany                           7281\n",
       "Bordeaux                          6111\n",
       "Northern Spain                    4892\n",
       "                                 ...  \n",
       "Pafos                                1\n",
       "Central Otago-Marlborough            1\n",
       "Maipo Valley-Colchagua Valley        1\n",
       "Colchagua Costa                      1\n",
       "Stirling                             1\n",
       "Name: province, Length: 455, dtype: int64"
      ]
     },
     "execution_count": 50,
     "metadata": {},
     "output_type": "execute_result"
    }
   ],
   "source": [
    "#(3) province\n",
    "pd.value_counts(data['province'])"
   ]
  },
  {
   "cell_type": "code",
   "execution_count": 51,
   "metadata": {
    "execution": {
     "iopub.execute_input": "2021-03-28T11:35:12.767914Z",
     "iopub.status.busy": "2021-03-28T11:35:12.767174Z",
     "iopub.status.idle": "2021-03-28T11:35:12.775560Z",
     "shell.execute_reply": "2021-03-28T11:35:12.775028Z"
    },
    "papermill": {
     "duration": 0.075958,
     "end_time": "2021-03-28T11:35:12.775711",
     "exception": false,
     "start_time": "2021-03-28T11:35:12.699753",
     "status": "completed"
    },
    "tags": []
   },
   "outputs": [
    {
     "data": {
      "text/plain": [
       "Napa Valley                  6209\n",
       "Columbia Valley (WA)         4975\n",
       "Mendoza                      3586\n",
       "Russian River Valley         3571\n",
       "California                   3462\n",
       "                             ... \n",
       "Alpilles                        1\n",
       "Vin de Pays de Hauterive        1\n",
       "Santa Barbara-Monterey          1\n",
       "Sonoma County-Lake County       1\n",
       "Coteaux du Tricastin            1\n",
       "Name: region_1, Length: 1236, dtype: int64"
      ]
     },
     "execution_count": 51,
     "metadata": {},
     "output_type": "execute_result"
    }
   ],
   "source": [
    "#(4)region_1\n",
    "pd.value_counts(data['region_1'])"
   ]
  },
  {
   "cell_type": "code",
   "execution_count": 52,
   "metadata": {
    "execution": {
     "iopub.execute_input": "2021-03-28T11:35:12.865767Z",
     "iopub.status.busy": "2021-03-28T11:35:12.862855Z",
     "iopub.status.idle": "2021-03-28T11:35:12.870262Z",
     "shell.execute_reply": "2021-03-28T11:35:12.870775Z"
    },
    "papermill": {
     "duration": 0.065535,
     "end_time": "2021-03-28T11:35:12.870967",
     "exception": false,
     "start_time": "2021-03-28T11:35:12.805432",
     "status": "completed"
    },
    "tags": []
   },
   "outputs": [
    {
     "data": {
      "text/plain": [
       "Central Coast              13057\n",
       "Sonoma                     11258\n",
       "Columbia Valley             9157\n",
       "Napa                        8801\n",
       "California Other            3516\n",
       "Willamette Valley           3181\n",
       "Mendocino/Lake Counties     2389\n",
       "Sierra Foothills            1660\n",
       "Napa-Sonoma                 1645\n",
       "Finger Lakes                1510\n",
       "Central Valley              1115\n",
       "Long Island                  771\n",
       "Southern Oregon              662\n",
       "Oregon Other                 661\n",
       "North Coast                  632\n",
       "Washington Other             593\n",
       "South Coast                  198\n",
       "New York Other               147\n",
       "Name: region_2, dtype: int64"
      ]
     },
     "execution_count": 52,
     "metadata": {},
     "output_type": "execute_result"
    }
   ],
   "source": [
    "#(5)region_2\n",
    "pd.value_counts(data['region_2'])"
   ]
  },
  {
   "cell_type": "code",
   "execution_count": 53,
   "metadata": {
    "execution": {
     "iopub.execute_input": "2021-03-28T11:35:12.975655Z",
     "iopub.status.busy": "2021-03-28T11:35:12.972283Z",
     "iopub.status.idle": "2021-03-28T11:35:12.981729Z",
     "shell.execute_reply": "2021-03-28T11:35:12.980947Z"
    },
    "papermill": {
     "duration": 0.080821,
     "end_time": "2021-03-28T11:35:12.981877",
     "exception": false,
     "start_time": "2021-03-28T11:35:12.901056",
     "status": "completed"
    },
    "tags": []
   },
   "outputs": [
    {
     "data": {
      "text/plain": [
       "Chardonnay                  14482\n",
       "Pinot Noir                  14291\n",
       "Cabernet Sauvignon          12800\n",
       "Red Blend                   10062\n",
       "Bordeaux-style Red Blend     7347\n",
       "                            ...  \n",
       "Carignan-Syrah                  1\n",
       "Premsal                         1\n",
       "Muskat                          1\n",
       "Syrah-Carignan                  1\n",
       "Carnelian                       1\n",
       "Name: variety, Length: 632, dtype: int64"
      ]
     },
     "execution_count": 53,
     "metadata": {},
     "output_type": "execute_result"
    }
   ],
   "source": [
    "#(6)variety\n",
    "pd.value_counts(data['variety'])"
   ]
  },
  {
   "cell_type": "code",
   "execution_count": 54,
   "metadata": {
    "execution": {
     "iopub.execute_input": "2021-03-28T11:35:13.095950Z",
     "iopub.status.busy": "2021-03-28T11:35:13.094792Z",
     "iopub.status.idle": "2021-03-28T11:35:13.106003Z",
     "shell.execute_reply": "2021-03-28T11:35:13.105487Z"
    },
    "papermill": {
     "duration": 0.092302,
     "end_time": "2021-03-28T11:35:13.106156",
     "exception": false,
     "start_time": "2021-03-28T11:35:13.013854",
     "status": "completed"
    },
    "tags": []
   },
   "outputs": [
    {
     "data": {
      "text/plain": [
       "Williams Selyem          374\n",
       "Testarossa               274\n",
       "DFJ Vinhos               258\n",
       "Chateau Ste. Michelle    225\n",
       "Columbia Crest           217\n",
       "                        ... \n",
       "Republic of Wine           1\n",
       "Prince Michel              1\n",
       "Glass House                1\n",
       "Jones von Drehle           1\n",
       "White Knot                 1\n",
       "Name: winery, Length: 14810, dtype: int64"
      ]
     },
     "execution_count": 54,
     "metadata": {},
     "output_type": "execute_result"
    }
   ],
   "source": [
    "#(7)winery\n",
    "pd.value_counts(data['winery'])"
   ]
  },
  {
   "cell_type": "markdown",
   "metadata": {
    "papermill": {
     "duration": 0.031323,
     "end_time": "2021-03-28T11:35:13.169608",
     "exception": false,
     "start_time": "2021-03-28T11:35:13.138285",
     "status": "completed"
    },
    "tags": []
   },
   "source": [
    "(2)数值属性，给出5数概括及缺失值的个数"
   ]
  },
  {
   "cell_type": "code",
   "execution_count": 55,
   "metadata": {
    "execution": {
     "iopub.execute_input": "2021-03-28T11:35:13.243613Z",
     "iopub.status.busy": "2021-03-28T11:35:13.242958Z",
     "iopub.status.idle": "2021-03-28T11:35:13.267680Z",
     "shell.execute_reply": "2021-03-28T11:35:13.268154Z"
    },
    "papermill": {
     "duration": 0.067434,
     "end_time": "2021-03-28T11:35:13.268337",
     "exception": false,
     "start_time": "2021-03-28T11:35:13.200903",
     "status": "completed"
    },
    "tags": []
   },
   "outputs": [
    {
     "data": {
      "text/html": [
       "<div>\n",
       "<style scoped>\n",
       "    .dataframe tbody tr th:only-of-type {\n",
       "        vertical-align: middle;\n",
       "    }\n",
       "\n",
       "    .dataframe tbody tr th {\n",
       "        vertical-align: top;\n",
       "    }\n",
       "\n",
       "    .dataframe thead th {\n",
       "        text-align: right;\n",
       "    }\n",
       "</style>\n",
       "<table border=\"1\" class=\"dataframe\">\n",
       "  <thead>\n",
       "    <tr style=\"text-align: right;\">\n",
       "      <th></th>\n",
       "      <th>points</th>\n",
       "      <th>price</th>\n",
       "    </tr>\n",
       "  </thead>\n",
       "  <tbody>\n",
       "    <tr>\n",
       "      <th>count</th>\n",
       "      <td>150930.000000</td>\n",
       "      <td>137235.000000</td>\n",
       "    </tr>\n",
       "    <tr>\n",
       "      <th>mean</th>\n",
       "      <td>87.888418</td>\n",
       "      <td>33.131482</td>\n",
       "    </tr>\n",
       "    <tr>\n",
       "      <th>std</th>\n",
       "      <td>3.222392</td>\n",
       "      <td>36.322536</td>\n",
       "    </tr>\n",
       "    <tr>\n",
       "      <th>min</th>\n",
       "      <td>80.000000</td>\n",
       "      <td>4.000000</td>\n",
       "    </tr>\n",
       "    <tr>\n",
       "      <th>25%</th>\n",
       "      <td>86.000000</td>\n",
       "      <td>16.000000</td>\n",
       "    </tr>\n",
       "    <tr>\n",
       "      <th>50%</th>\n",
       "      <td>88.000000</td>\n",
       "      <td>24.000000</td>\n",
       "    </tr>\n",
       "    <tr>\n",
       "      <th>75%</th>\n",
       "      <td>90.000000</td>\n",
       "      <td>40.000000</td>\n",
       "    </tr>\n",
       "    <tr>\n",
       "      <th>max</th>\n",
       "      <td>100.000000</td>\n",
       "      <td>2300.000000</td>\n",
       "    </tr>\n",
       "  </tbody>\n",
       "</table>\n",
       "</div>"
      ],
      "text/plain": [
       "              points          price\n",
       "count  150930.000000  137235.000000\n",
       "mean       87.888418      33.131482\n",
       "std         3.222392      36.322536\n",
       "min        80.000000       4.000000\n",
       "25%        86.000000      16.000000\n",
       "50%        88.000000      24.000000\n",
       "75%        90.000000      40.000000\n",
       "max       100.000000    2300.000000"
      ]
     },
     "execution_count": 55,
     "metadata": {},
     "output_type": "execute_result"
    }
   ],
   "source": [
    "#这里的数值属性包括points和price\n",
    "#用describe函数对数据的5数进行概括\n",
    "digital_data = ['points','price']\n",
    "data[digital_data].describe()"
   ]
  },
  {
   "cell_type": "code",
   "execution_count": 56,
   "metadata": {
    "execution": {
     "iopub.execute_input": "2021-03-28T11:35:13.335884Z",
     "iopub.status.busy": "2021-03-28T11:35:13.334908Z",
     "iopub.status.idle": "2021-03-28T11:35:13.342543Z",
     "shell.execute_reply": "2021-03-28T11:35:13.341995Z"
    },
    "papermill": {
     "duration": 0.042641,
     "end_time": "2021-03-28T11:35:13.342683",
     "exception": false,
     "start_time": "2021-03-28T11:35:13.300042",
     "status": "completed"
    },
    "tags": []
   },
   "outputs": [
    {
     "name": "stdout",
     "output_type": "stream",
     "text": [
      "The Null num of 'points' is: 0\n"
     ]
    }
   ],
   "source": [
    "\n",
    "#给出points和price缺失值个数\n",
    "print(\"The Null num of 'points' is:\",data['points'].isnull().sum())"
   ]
  },
  {
   "cell_type": "code",
   "execution_count": 57,
   "metadata": {
    "execution": {
     "iopub.execute_input": "2021-03-28T11:35:13.415705Z",
     "iopub.status.busy": "2021-03-28T11:35:13.414859Z",
     "iopub.status.idle": "2021-03-28T11:35:13.420005Z",
     "shell.execute_reply": "2021-03-28T11:35:13.419339Z"
    },
    "papermill": {
     "duration": 0.042879,
     "end_time": "2021-03-28T11:35:13.420151",
     "exception": false,
     "start_time": "2021-03-28T11:35:13.377272",
     "status": "completed"
    },
    "tags": []
   },
   "outputs": [
    {
     "name": "stdout",
     "output_type": "stream",
     "text": [
      "The Null num of 'price' is: 13695\n"
     ]
    }
   ],
   "source": [
    "print(\"The Null num of 'price' is:\",data['price'].isnull().sum())"
   ]
  },
  {
   "cell_type": "markdown",
   "metadata": {
    "papermill": {
     "duration": 0.032473,
     "end_time": "2021-03-28T11:35:13.486520",
     "exception": false,
     "start_time": "2021-03-28T11:35:13.454047",
     "status": "completed"
    },
    "tags": []
   },
   "source": [
    "### 数据可视化\n",
    "（1）绘制points的直方图、盒图、qq图（此处只针对数值类型的数据）"
   ]
  },
  {
   "cell_type": "code",
   "execution_count": 58,
   "metadata": {
    "execution": {
     "iopub.execute_input": "2021-03-28T11:35:13.556297Z",
     "iopub.status.busy": "2021-03-28T11:35:13.555567Z",
     "iopub.status.idle": "2021-03-28T11:35:14.368399Z",
     "shell.execute_reply": "2021-03-28T11:35:14.367847Z"
    },
    "papermill": {
     "duration": 0.849017,
     "end_time": "2021-03-28T11:35:14.368549",
     "exception": false,
     "start_time": "2021-03-28T11:35:13.519532",
     "status": "completed"
    },
    "tags": []
   },
   "outputs": [
    {
     "data": {
      "image/png": "[encoded data removed]",
      "text/plain": [
       "<Figure size 720x720 with 3 Axes>"
      ]
     },
     "metadata": {
      "needs_background": "light"
     },
     "output_type": "display_data"
    }
   ],
   "source": [
    "# coding=utf-8\n",
    "plt.figure(figsize = (10,10))\n",
    "\n",
    "#直方图\n",
    "plt.subplot(2,2,1)\n",
    "plt.title(\"points hist\")\n",
    "data['points'].hist(alpha=0.5,bins=15) #alpha透明度，bins竖条数\n",
    "\n",
    "#盒图\n",
    "plt.subplot(2,2,2)\n",
    "plt.title(\"points box\")\n",
    "data['points'].plot(kind='box',notch=True,grid=True)\n",
    "\n",
    "#q-q图\n",
    "plt.subplot(2,2,3)\n",
    "stats.probplot(data['points'],dist=\"norm\",plot=plt)\n",
    "plt.show()\n"
   ]
  },
  {
   "cell_type": "code",
   "execution_count": 59,
   "metadata": {
    "execution": {
     "iopub.execute_input": "2021-03-28T11:35:14.545390Z",
     "iopub.status.busy": "2021-03-28T11:35:14.455350Z",
     "iopub.status.idle": "2021-03-28T11:35:15.641207Z",
     "shell.execute_reply": "2021-03-28T11:35:15.640614Z"
    },
    "papermill": {
     "duration": 1.228583,
     "end_time": "2021-03-28T11:35:15.641344",
     "exception": false,
     "start_time": "2021-03-28T11:35:14.412761",
     "status": "completed"
    },
    "tags": []
   },
   "outputs": [
    {
     "data": {
      "image/png": "[encoded data removed]",
      "text/plain": [
       "<Figure size 720x720 with 4 Axes>"
      ]
     },
     "metadata": {
      "needs_background": "light"
     },
     "output_type": "display_data"
    }
   ],
   "source": [
    "#绘制price的直方图、盒图、qq图\n",
    "plt.figure(figsize = (10,10))\n",
    "\n",
    "#直方图\n",
    "plt.subplot(2,2,1)\n",
    "plt.title(\"price hist\")\n",
    "data['price'].hist(alpha=0.5,bins=15) #alpha透明度，bins竖条数\n",
    "\n",
    "#盒图\n",
    "plt.subplot(2,2,2)\n",
    "plt.title(\"price box\")\n",
    "data['price'].plot(kind='box',notch=True,grid=True)\n",
    "\n",
    "#q-q图\n",
    "plt.subplot(2,2,3)\n",
    "stats.probplot(data['price'],dist=\"norm\",plot=plt)\n",
    "\n",
    "#去除缺失值再绘制q-q图\n",
    "plt.subplot(2,2,4)\n",
    "pricewithooutnulldata = pd.DataFrame(data['price']) \n",
    "pricewithooutnulldata = pricewithooutnulldata.dropna()  \n",
    "stats.probplot(data['price'],dist=\"norm\",plot=plt)\n",
    "\n",
    "plt.show()"
   ]
  },
  {
   "cell_type": "markdown",
   "metadata": {
    "papermill": {
     "duration": 0.035243,
     "end_time": "2021-03-28T11:35:15.712270",
     "exception": false,
     "start_time": "2021-03-28T11:35:15.677027",
     "status": "completed"
    },
    "tags": []
   },
   "source": [
    "### 由上图可以得出结论：\n",
    "1.points属性分布符合正态分布，但不是完全正态分布\n",
    "\n",
    "2.price属性分布不符合正态分布"
   ]
  },
  {
   "cell_type": "markdown",
   "metadata": {
    "papermill": {
     "duration": 0.03488,
     "end_time": "2021-03-28T11:35:15.782661",
     "exception": false,
     "start_time": "2021-03-28T11:35:15.747781",
     "status": "completed"
    },
    "tags": []
   },
   "source": [
    "# 数据缺失处理"
   ]
  },
  {
   "cell_type": "code",
   "execution_count": 60,
   "metadata": {
    "execution": {
     "iopub.execute_input": "2021-03-28T11:35:15.859525Z",
     "iopub.status.busy": "2021-03-28T11:35:15.858821Z",
     "iopub.status.idle": "2021-03-28T11:35:15.862731Z",
     "shell.execute_reply": "2021-03-28T11:35:15.862153Z"
    },
    "papermill": {
     "duration": 0.045212,
     "end_time": "2021-03-28T11:35:15.863070",
     "exception": false,
     "start_time": "2021-03-28T11:35:15.817858",
     "status": "completed"
    },
    "tags": []
   },
   "outputs": [],
   "source": [
    "#绘制表格查看数据缺失值并检验四种方案填充后是否还有缺失值\n",
    "def missing_data(datatodel):\n",
    "    missing_num = datatodel.isnull().sum()\n",
    "    missing_percent = missing_num/datatodel.shape[0]*100\n",
    "    concat_data = pd.concat([missing_num,missing_percent],axis=1,keys=['missing_num','missing_percent'])\n",
    "    concat_data['Types'] = datatodel.dtypes\n",
    "    return concat_data\n"
   ]
  },
  {
   "cell_type": "markdown",
   "metadata": {
    "papermill": {
     "duration": 0.035005,
     "end_time": "2021-03-28T11:35:15.933658",
     "exception": false,
     "start_time": "2021-03-28T11:35:15.898653",
     "status": "completed"
    },
    "tags": []
   },
   "source": [
    "由上表可以看出，数值型数据price存在缺失值\n",
    "\n",
    "标称型数据country，designation,province,region_1,region_2存在缺失值\n",
    "\n",
    "这里缺失的原因可能是由于未完全记录、遗漏或无法获取"
   ]
  },
  {
   "cell_type": "markdown",
   "metadata": {
    "papermill": {
     "duration": 0.036138,
     "end_time": "2021-03-28T11:35:16.004888",
     "exception": false,
     "start_time": "2021-03-28T11:35:15.968750",
     "status": "completed"
    },
    "tags": []
   },
   "source": [
    "## 方案一 缺失值剔除"
   ]
  },
  {
   "cell_type": "code",
   "execution_count": 61,
   "metadata": {
    "execution": {
     "iopub.execute_input": "2021-03-28T11:35:16.221594Z",
     "iopub.status.busy": "2021-03-28T11:35:16.102020Z",
     "iopub.status.idle": "2021-03-28T11:35:16.243423Z",
     "shell.execute_reply": "2021-03-28T11:35:16.242838Z"
    },
    "papermill": {
     "duration": 0.201964,
     "end_time": "2021-03-28T11:35:16.243573",
     "exception": false,
     "start_time": "2021-03-28T11:35:16.041609",
     "status": "completed"
    },
    "tags": []
   },
   "outputs": [],
   "source": [
    "del_null_data = data.copy(deep=True)\n",
    "del_null_data = del_null_data.dropna()"
   ]
  },
  {
   "cell_type": "code",
   "execution_count": 62,
   "metadata": {
    "execution": {
     "iopub.execute_input": "2021-03-28T11:35:16.354195Z",
     "iopub.status.busy": "2021-03-28T11:35:16.353517Z",
     "iopub.status.idle": "2021-03-28T11:35:16.367698Z",
     "shell.execute_reply": "2021-03-28T11:35:16.368211Z"
    },
    "papermill": {
     "duration": 0.088997,
     "end_time": "2021-03-28T11:35:16.368397",
     "exception": false,
     "start_time": "2021-03-28T11:35:16.279400",
     "status": "completed"
    },
    "tags": []
   },
   "outputs": [
    {
     "data": {
      "text/html": [
       "<div>\n",
       "<style scoped>\n",
       "    .dataframe tbody tr th:only-of-type {\n",
       "        vertical-align: middle;\n",
       "    }\n",
       "\n",
       "    .dataframe tbody tr th {\n",
       "        vertical-align: top;\n",
       "    }\n",
       "\n",
       "    .dataframe thead th {\n",
       "        text-align: right;\n",
       "    }\n",
       "</style>\n",
       "<table border=\"1\" class=\"dataframe\">\n",
       "  <thead>\n",
       "    <tr style=\"text-align: right;\">\n",
       "      <th></th>\n",
       "      <th>missing_num</th>\n",
       "      <th>missing_percent</th>\n",
       "      <th>Types</th>\n",
       "    </tr>\n",
       "  </thead>\n",
       "  <tbody>\n",
       "    <tr>\n",
       "      <th>country</th>\n",
       "      <td>0</td>\n",
       "      <td>0.0</td>\n",
       "      <td>object</td>\n",
       "    </tr>\n",
       "    <tr>\n",
       "      <th>description</th>\n",
       "      <td>0</td>\n",
       "      <td>0.0</td>\n",
       "      <td>object</td>\n",
       "    </tr>\n",
       "    <tr>\n",
       "      <th>designation</th>\n",
       "      <td>0</td>\n",
       "      <td>0.0</td>\n",
       "      <td>object</td>\n",
       "    </tr>\n",
       "    <tr>\n",
       "      <th>points</th>\n",
       "      <td>0</td>\n",
       "      <td>0.0</td>\n",
       "      <td>int64</td>\n",
       "    </tr>\n",
       "    <tr>\n",
       "      <th>price</th>\n",
       "      <td>0</td>\n",
       "      <td>0.0</td>\n",
       "      <td>float64</td>\n",
       "    </tr>\n",
       "    <tr>\n",
       "      <th>province</th>\n",
       "      <td>0</td>\n",
       "      <td>0.0</td>\n",
       "      <td>object</td>\n",
       "    </tr>\n",
       "    <tr>\n",
       "      <th>region_1</th>\n",
       "      <td>0</td>\n",
       "      <td>0.0</td>\n",
       "      <td>object</td>\n",
       "    </tr>\n",
       "    <tr>\n",
       "      <th>region_2</th>\n",
       "      <td>0</td>\n",
       "      <td>0.0</td>\n",
       "      <td>object</td>\n",
       "    </tr>\n",
       "    <tr>\n",
       "      <th>variety</th>\n",
       "      <td>0</td>\n",
       "      <td>0.0</td>\n",
       "      <td>object</td>\n",
       "    </tr>\n",
       "    <tr>\n",
       "      <th>winery</th>\n",
       "      <td>0</td>\n",
       "      <td>0.0</td>\n",
       "      <td>object</td>\n",
       "    </tr>\n",
       "  </tbody>\n",
       "</table>\n",
       "</div>"
      ],
      "text/plain": [
       "             missing_num  missing_percent    Types\n",
       "country                0              0.0   object\n",
       "description            0              0.0   object\n",
       "designation            0              0.0   object\n",
       "points                 0              0.0    int64\n",
       "price                  0              0.0  float64\n",
       "province               0              0.0   object\n",
       "region_1               0              0.0   object\n",
       "region_2               0              0.0   object\n",
       "variety                0              0.0   object\n",
       "winery                 0              0.0   object"
      ]
     },
     "execution_count": 62,
     "metadata": {},
     "output_type": "execute_result"
    }
   ],
   "source": [
    "missing_data(del_null_data)"
   ]
  },
  {
   "cell_type": "code",
   "execution_count": 63,
   "metadata": {
    "execution": {
     "iopub.execute_input": "2021-03-28T11:35:16.466745Z",
     "iopub.status.busy": "2021-03-28T11:35:16.466074Z",
     "iopub.status.idle": "2021-03-28T11:35:17.540820Z",
     "shell.execute_reply": "2021-03-28T11:35:17.541338Z"
    },
    "papermill": {
     "duration": 1.136797,
     "end_time": "2021-03-28T11:35:17.541512",
     "exception": false,
     "start_time": "2021-03-28T11:35:16.404715",
     "status": "completed"
    },
    "tags": []
   },
   "outputs": [
    {
     "data": {
      "image/png": "[encoded data removed]",
      "text/plain": [
       "<Figure size 720x720 with 6 Axes>"
      ]
     },
     "metadata": {
      "needs_background": "light"
     },
     "output_type": "display_data"
    }
   ],
   "source": [
    "#可视化对比新旧数据\n",
    "\n",
    "plt.figure(figsize = (10,10))\n",
    "\n",
    "#直方图\n",
    "plt.subplot(3,2,1)\n",
    "plt.title(\"price hist\")\n",
    "data['price'].hist(alpha=0.5,bins=15) #alpha透明度，bins竖条数\n",
    "\n",
    "#直方图\n",
    "plt.subplot(3,2,2)\n",
    "plt.title(\"new price hist\")\n",
    "del_null_data['price'].hist(alpha=0.5,bins=15) #alpha透明度，bins竖条数\n",
    "\n",
    "\n",
    "#盒图\n",
    "plt.subplot(3,2,3)\n",
    "plt.title(\"price box\")\n",
    "data['price'].plot(kind='box',notch=True,grid=True)\n",
    "\n",
    "#盒图\n",
    "plt.subplot(3,2,4)\n",
    "plt.title(\"new price box\")\n",
    "del_null_data['price'].plot(kind='box',notch=True,grid=True)\n",
    "\n",
    "#q-q图\n",
    "plt.subplot(3,2,5)\n",
    "stats.probplot(data['price'],dist=\"norm\",plot=plt)\n",
    "\n",
    "plt.subplot(3,2,6)\n",
    "stats.probplot(del_null_data['price'],dist=\"norm\",plot=plt)\n",
    "\n",
    "plt.show()"
   ]
  },
  {
   "cell_type": "code",
   "execution_count": 64,
   "metadata": {
    "execution": {
     "iopub.execute_input": "2021-03-28T11:35:17.620771Z",
     "iopub.status.busy": "2021-03-28T11:35:17.620006Z",
     "iopub.status.idle": "2021-03-28T11:35:17.637190Z",
     "shell.execute_reply": "2021-03-28T11:35:17.637671Z"
    },
    "papermill": {
     "duration": 0.058417,
     "end_time": "2021-03-28T11:35:17.637858",
     "exception": false,
     "start_time": "2021-03-28T11:35:17.579441",
     "status": "completed"
    },
    "tags": []
   },
   "outputs": [
    {
     "data": {
      "text/html": [
       "<div>\n",
       "<style scoped>\n",
       "    .dataframe tbody tr th:only-of-type {\n",
       "        vertical-align: middle;\n",
       "    }\n",
       "\n",
       "    .dataframe tbody tr th {\n",
       "        vertical-align: top;\n",
       "    }\n",
       "\n",
       "    .dataframe thead th {\n",
       "        text-align: right;\n",
       "    }\n",
       "</style>\n",
       "<table border=\"1\" class=\"dataframe\">\n",
       "  <thead>\n",
       "    <tr style=\"text-align: right;\">\n",
       "      <th></th>\n",
       "      <th>price</th>\n",
       "    </tr>\n",
       "  </thead>\n",
       "  <tbody>\n",
       "    <tr>\n",
       "      <th>count</th>\n",
       "      <td>39241.000000</td>\n",
       "    </tr>\n",
       "    <tr>\n",
       "      <th>mean</th>\n",
       "      <td>37.546316</td>\n",
       "    </tr>\n",
       "    <tr>\n",
       "      <th>std</th>\n",
       "      <td>26.716547</td>\n",
       "    </tr>\n",
       "    <tr>\n",
       "      <th>min</th>\n",
       "      <td>4.000000</td>\n",
       "    </tr>\n",
       "    <tr>\n",
       "      <th>25%</th>\n",
       "      <td>22.000000</td>\n",
       "    </tr>\n",
       "    <tr>\n",
       "      <th>50%</th>\n",
       "      <td>32.000000</td>\n",
       "    </tr>\n",
       "    <tr>\n",
       "      <th>75%</th>\n",
       "      <td>45.000000</td>\n",
       "    </tr>\n",
       "    <tr>\n",
       "      <th>max</th>\n",
       "      <td>2013.000000</td>\n",
       "    </tr>\n",
       "  </tbody>\n",
       "</table>\n",
       "</div>"
      ],
      "text/plain": [
       "              price\n",
       "count  39241.000000\n",
       "mean      37.546316\n",
       "std       26.716547\n",
       "min        4.000000\n",
       "25%       22.000000\n",
       "50%       32.000000\n",
       "75%       45.000000\n",
       "max     2013.000000"
      ]
     },
     "execution_count": 64,
     "metadata": {},
     "output_type": "execute_result"
    }
   ],
   "source": [
    "del_null_data[['price']].describe()  #缺失部分剔除后数据的5数概况"
   ]
  },
  {
   "cell_type": "markdown",
   "metadata": {
    "papermill": {
     "duration": 0.038351,
     "end_time": "2021-03-28T11:35:17.714545",
     "exception": false,
     "start_time": "2021-03-28T11:35:17.676194",
     "status": "completed"
    },
    "tags": []
   },
   "source": [
    "## 用最高频率值来填补缺失值"
   ]
  },
  {
   "cell_type": "code",
   "execution_count": 65,
   "metadata": {
    "execution": {
     "iopub.execute_input": "2021-03-28T11:35:17.797080Z",
     "iopub.status.busy": "2021-03-28T11:35:17.796401Z",
     "iopub.status.idle": "2021-03-28T11:35:21.439383Z",
     "shell.execute_reply": "2021-03-28T11:35:21.438803Z"
    },
    "papermill": {
     "duration": 3.686529,
     "end_time": "2021-03-28T11:35:21.439523",
     "exception": false,
     "start_time": "2021-03-28T11:35:17.752994",
     "status": "completed"
    },
    "tags": []
   },
   "outputs": [],
   "source": [
    "#用最高频率来填补缺失值--此处使用深拷贝，否则会改变原值\n",
    "fill_data_with_most_frequency = data.copy(deep=True)\n",
    "#对price进行最高频率值填补缺失值\n",
    "word_counts = Counter(fill_data_with_most_frequency['price'])\n",
    "top = word_counts.most_common(1)[0][0]\n",
    "fill_data_with_most_frequency['price'] = fill_data_with_most_frequency['price'].fillna(top)"
   ]
  },
  {
   "cell_type": "code",
   "execution_count": 66,
   "metadata": {
    "execution": {
     "iopub.execute_input": "2021-03-28T11:35:21.519741Z",
     "iopub.status.busy": "2021-03-28T11:35:21.519109Z",
     "iopub.status.idle": "2021-03-28T11:35:21.653932Z",
     "shell.execute_reply": "2021-03-28T11:35:21.654454Z"
    },
    "papermill": {
     "duration": 0.176928,
     "end_time": "2021-03-28T11:35:21.654624",
     "exception": false,
     "start_time": "2021-03-28T11:35:21.477696",
     "status": "completed"
    },
    "tags": []
   },
   "outputs": [
    {
     "data": {
      "text/html": [
       "<div>\n",
       "<style scoped>\n",
       "    .dataframe tbody tr th:only-of-type {\n",
       "        vertical-align: middle;\n",
       "    }\n",
       "\n",
       "    .dataframe tbody tr th {\n",
       "        vertical-align: top;\n",
       "    }\n",
       "\n",
       "    .dataframe thead th {\n",
       "        text-align: right;\n",
       "    }\n",
       "</style>\n",
       "<table border=\"1\" class=\"dataframe\">\n",
       "  <thead>\n",
       "    <tr style=\"text-align: right;\">\n",
       "      <th></th>\n",
       "      <th>missing_num</th>\n",
       "      <th>missing_percent</th>\n",
       "      <th>Types</th>\n",
       "    </tr>\n",
       "  </thead>\n",
       "  <tbody>\n",
       "    <tr>\n",
       "      <th>country</th>\n",
       "      <td>5</td>\n",
       "      <td>0.003313</td>\n",
       "      <td>object</td>\n",
       "    </tr>\n",
       "    <tr>\n",
       "      <th>description</th>\n",
       "      <td>0</td>\n",
       "      <td>0.000000</td>\n",
       "      <td>object</td>\n",
       "    </tr>\n",
       "    <tr>\n",
       "      <th>designation</th>\n",
       "      <td>45735</td>\n",
       "      <td>30.302127</td>\n",
       "      <td>object</td>\n",
       "    </tr>\n",
       "    <tr>\n",
       "      <th>points</th>\n",
       "      <td>0</td>\n",
       "      <td>0.000000</td>\n",
       "      <td>int64</td>\n",
       "    </tr>\n",
       "    <tr>\n",
       "      <th>price</th>\n",
       "      <td>0</td>\n",
       "      <td>0.000000</td>\n",
       "      <td>float64</td>\n",
       "    </tr>\n",
       "    <tr>\n",
       "      <th>province</th>\n",
       "      <td>5</td>\n",
       "      <td>0.003313</td>\n",
       "      <td>object</td>\n",
       "    </tr>\n",
       "    <tr>\n",
       "      <th>region_1</th>\n",
       "      <td>25060</td>\n",
       "      <td>16.603724</td>\n",
       "      <td>object</td>\n",
       "    </tr>\n",
       "    <tr>\n",
       "      <th>region_2</th>\n",
       "      <td>89977</td>\n",
       "      <td>59.615053</td>\n",
       "      <td>object</td>\n",
       "    </tr>\n",
       "    <tr>\n",
       "      <th>variety</th>\n",
       "      <td>0</td>\n",
       "      <td>0.000000</td>\n",
       "      <td>object</td>\n",
       "    </tr>\n",
       "    <tr>\n",
       "      <th>winery</th>\n",
       "      <td>0</td>\n",
       "      <td>0.000000</td>\n",
       "      <td>object</td>\n",
       "    </tr>\n",
       "  </tbody>\n",
       "</table>\n",
       "</div>"
      ],
      "text/plain": [
       "             missing_num  missing_percent    Types\n",
       "country                5         0.003313   object\n",
       "description            0         0.000000   object\n",
       "designation        45735        30.302127   object\n",
       "points                 0         0.000000    int64\n",
       "price                  0         0.000000  float64\n",
       "province               5         0.003313   object\n",
       "region_1           25060        16.603724   object\n",
       "region_2           89977        59.615053   object\n",
       "variety                0         0.000000   object\n",
       "winery                 0         0.000000   object"
      ]
     },
     "execution_count": 66,
     "metadata": {},
     "output_type": "execute_result"
    }
   ],
   "source": [
    "missing_data(fill_data_with_most_frequency)"
   ]
  },
  {
   "cell_type": "code",
   "execution_count": 67,
   "metadata": {
    "execution": {
     "iopub.execute_input": "2021-03-28T11:35:21.736593Z",
     "iopub.status.busy": "2021-03-28T11:35:21.735789Z",
     "iopub.status.idle": "2021-03-28T11:35:23.109596Z",
     "shell.execute_reply": "2021-03-28T11:35:23.109054Z"
    },
    "papermill": {
     "duration": 1.415674,
     "end_time": "2021-03-28T11:35:23.109753",
     "exception": false,
     "start_time": "2021-03-28T11:35:21.694079",
     "status": "completed"
    },
    "tags": []
   },
   "outputs": [
    {
     "data": {
      "image/png": "[encoded data removed]",
      "text/plain": [
       "<Figure size 720x720 with 6 Axes>"
      ]
     },
     "metadata": {
      "needs_background": "light"
     },
     "output_type": "display_data"
    }
   ],
   "source": [
    "#可视化对比新旧数据\n",
    "\n",
    "plt.figure(figsize = (10,10))\n",
    "\n",
    "#直方图\n",
    "plt.subplot(3,2,1)\n",
    "plt.title(\"price hist\")\n",
    "data['price'].hist(alpha=0.5,bins=15) #alpha透明度，bins竖条数\n",
    "\n",
    "#直方图\n",
    "plt.subplot(3,2,2)\n",
    "plt.title(\"new price hist\")\n",
    "fill_data_with_most_frequency['price'].hist(alpha=0.5,bins=15) #alpha透明度，bins竖条数\n",
    "\n",
    "\n",
    "#盒图\n",
    "plt.subplot(3,2,3)\n",
    "plt.title(\"price box\")\n",
    "data['price'].plot(kind='box',notch=True,grid=True)\n",
    "\n",
    "#盒图\n",
    "plt.subplot(3,2,4)\n",
    "plt.title(\"new price box\")\n",
    "fill_data_with_most_frequency['price'].plot(kind='box',notch=True,grid=True)\n",
    "\n",
    "#q-q图\n",
    "plt.subplot(3,2,5)\n",
    "stats.probplot(data['price'],dist=\"norm\",plot=plt)\n",
    "\n",
    "plt.subplot(3,2,6)\n",
    "stats.probplot(fill_data_with_most_frequency['price'],dist=\"norm\",plot=plt)\n",
    "\n",
    "plt.show()"
   ]
  },
  {
   "cell_type": "code",
   "execution_count": 68,
   "metadata": {
    "execution": {
     "iopub.execute_input": "2021-03-28T11:35:23.200470Z",
     "iopub.status.busy": "2021-03-28T11:35:23.199782Z",
     "iopub.status.idle": "2021-03-28T11:35:23.215668Z",
     "shell.execute_reply": "2021-03-28T11:35:23.216197Z"
    },
    "papermill": {
     "duration": 0.065691,
     "end_time": "2021-03-28T11:35:23.216377",
     "exception": false,
     "start_time": "2021-03-28T11:35:23.150686",
     "status": "completed"
    },
    "tags": []
   },
   "outputs": [
    {
     "data": {
      "text/html": [
       "<div>\n",
       "<style scoped>\n",
       "    .dataframe tbody tr th:only-of-type {\n",
       "        vertical-align: middle;\n",
       "    }\n",
       "\n",
       "    .dataframe tbody tr th {\n",
       "        vertical-align: top;\n",
       "    }\n",
       "\n",
       "    .dataframe thead th {\n",
       "        text-align: right;\n",
       "    }\n",
       "</style>\n",
       "<table border=\"1\" class=\"dataframe\">\n",
       "  <thead>\n",
       "    <tr style=\"text-align: right;\">\n",
       "      <th></th>\n",
       "      <th>price</th>\n",
       "    </tr>\n",
       "  </thead>\n",
       "  <tbody>\n",
       "    <tr>\n",
       "      <th>count</th>\n",
       "      <td>150930.000000</td>\n",
       "    </tr>\n",
       "    <tr>\n",
       "      <th>mean</th>\n",
       "      <td>31.939966</td>\n",
       "    </tr>\n",
       "    <tr>\n",
       "      <th>std</th>\n",
       "      <td>34.840211</td>\n",
       "    </tr>\n",
       "    <tr>\n",
       "      <th>min</th>\n",
       "      <td>4.000000</td>\n",
       "    </tr>\n",
       "    <tr>\n",
       "      <th>25%</th>\n",
       "      <td>16.000000</td>\n",
       "    </tr>\n",
       "    <tr>\n",
       "      <th>50%</th>\n",
       "      <td>22.000000</td>\n",
       "    </tr>\n",
       "    <tr>\n",
       "      <th>75%</th>\n",
       "      <td>38.000000</td>\n",
       "    </tr>\n",
       "    <tr>\n",
       "      <th>max</th>\n",
       "      <td>2300.000000</td>\n",
       "    </tr>\n",
       "  </tbody>\n",
       "</table>\n",
       "</div>"
      ],
      "text/plain": [
       "               price\n",
       "count  150930.000000\n",
       "mean       31.939966\n",
       "std        34.840211\n",
       "min         4.000000\n",
       "25%        16.000000\n",
       "50%        22.000000\n",
       "75%        38.000000\n",
       "max      2300.000000"
      ]
     },
     "execution_count": 68,
     "metadata": {},
     "output_type": "execute_result"
    }
   ],
   "source": [
    "#对填充后的新数据进行描述\n",
    "fill_data_with_most_frequency[['price']].describe()"
   ]
  },
  {
   "cell_type": "markdown",
   "metadata": {
    "papermill": {
     "duration": 0.040478,
     "end_time": "2021-03-28T11:35:23.297845",
     "exception": false,
     "start_time": "2021-03-28T11:35:23.257367",
     "status": "completed"
    },
    "tags": []
   },
   "source": [
    "## 通过属性的相关关系来填补缺失值"
   ]
  },
  {
   "cell_type": "code",
   "execution_count": 69,
   "metadata": {
    "execution": {
     "iopub.execute_input": "2021-03-28T11:35:23.383178Z",
     "iopub.status.busy": "2021-03-28T11:35:23.382386Z",
     "iopub.status.idle": "2021-03-28T11:35:23.398257Z",
     "shell.execute_reply": "2021-03-28T11:35:23.398831Z"
    },
    "papermill": {
     "duration": 0.060374,
     "end_time": "2021-03-28T11:35:23.399018",
     "exception": false,
     "start_time": "2021-03-28T11:35:23.338644",
     "status": "completed"
    },
    "tags": []
   },
   "outputs": [
    {
     "data": {
      "text/html": [
       "<div>\n",
       "<style scoped>\n",
       "    .dataframe tbody tr th:only-of-type {\n",
       "        vertical-align: middle;\n",
       "    }\n",
       "\n",
       "    .dataframe tbody tr th {\n",
       "        vertical-align: top;\n",
       "    }\n",
       "\n",
       "    .dataframe thead th {\n",
       "        text-align: right;\n",
       "    }\n",
       "</style>\n",
       "<table border=\"1\" class=\"dataframe\">\n",
       "  <thead>\n",
       "    <tr style=\"text-align: right;\">\n",
       "      <th></th>\n",
       "      <th>points</th>\n",
       "      <th>price</th>\n",
       "    </tr>\n",
       "  </thead>\n",
       "  <tbody>\n",
       "    <tr>\n",
       "      <th>points</th>\n",
       "      <td>1.000000</td>\n",
       "      <td>0.459863</td>\n",
       "    </tr>\n",
       "    <tr>\n",
       "      <th>price</th>\n",
       "      <td>0.459863</td>\n",
       "      <td>1.000000</td>\n",
       "    </tr>\n",
       "  </tbody>\n",
       "</table>\n",
       "</div>"
      ],
      "text/plain": [
       "          points     price\n",
       "points  1.000000  0.459863\n",
       "price   0.459863  1.000000"
      ]
     },
     "execution_count": 69,
     "metadata": {},
     "output_type": "execute_result"
    }
   ],
   "source": [
    "#查看相关的属性关系\n",
    "data.corr()"
   ]
  },
  {
   "cell_type": "code",
   "execution_count": 70,
   "metadata": {
    "execution": {
     "iopub.execute_input": "2021-03-28T11:35:23.486339Z",
     "iopub.status.busy": "2021-03-28T11:35:23.485543Z",
     "iopub.status.idle": "2021-03-28T11:35:24.130330Z",
     "shell.execute_reply": "2021-03-28T11:35:24.130814Z"
    },
    "papermill": {
     "duration": 0.690092,
     "end_time": "2021-03-28T11:35:24.131045",
     "exception": false,
     "start_time": "2021-03-28T11:35:23.440953",
     "status": "completed"
    },
    "tags": []
   },
   "outputs": [],
   "source": [
    "#通过属性的相关关系来填补缺失值\n",
    "target_data = data['price'].copy(deep=True)\n",
    "source_data = data['points'].copy(deep=True)\n",
    "\n",
    "flag1 = target_data.isnull().values\n",
    "flag2 = source_data.isnull().values\n",
    "\n",
    "i=0\n",
    "for _,value in target_data.iteritems():\n",
    "    if(flag1[i]==True) and (flag2[i]==False):\n",
    "        target_data[i] = 104 - source_data[i]\n",
    "    i=i+1\n"
   ]
  },
  {
   "cell_type": "code",
   "execution_count": 71,
   "metadata": {
    "execution": {
     "iopub.execute_input": "2021-03-28T11:35:24.237827Z",
     "iopub.status.busy": "2021-03-28T11:35:24.223209Z",
     "iopub.status.idle": "2021-03-28T11:35:25.606599Z",
     "shell.execute_reply": "2021-03-28T11:35:25.607194Z"
    },
    "papermill": {
     "duration": 1.4347,
     "end_time": "2021-03-28T11:35:25.607389",
     "exception": false,
     "start_time": "2021-03-28T11:35:24.172689",
     "status": "completed"
    },
    "tags": []
   },
   "outputs": [
    {
     "data": {
      "image/png": "[encoded data removed]",
      "text/plain": [
       "<Figure size 720x720 with 6 Axes>"
      ]
     },
     "metadata": {
      "needs_background": "light"
     },
     "output_type": "display_data"
    }
   ],
   "source": [
    "#可视化对比新旧数据\n",
    "\n",
    "plt.figure(figsize = (10,10))\n",
    "\n",
    "#直方图\n",
    "plt.subplot(3,2,1)\n",
    "plt.title(\"price hist\")\n",
    "data['price'].hist(alpha=0.5,bins=15) #alpha透明度，bins竖条数\n",
    "\n",
    "#直方图\n",
    "plt.subplot(3,2,2)\n",
    "plt.title(\"new price hist\")\n",
    "target_data.hist(alpha=0.5,bins=15) #alpha透明度，bins竖条数\n",
    "\n",
    "\n",
    "#盒图\n",
    "plt.subplot(3,2,3)\n",
    "plt.title(\"price box\")\n",
    "data['price'].plot(kind='box',notch=True,grid=True)\n",
    "\n",
    "#盒图\n",
    "plt.subplot(3,2,4)\n",
    "plt.title(\"new price box\")\n",
    "target_data.plot(kind='box',notch=True,grid=True)\n",
    "\n",
    "#q-q图\n",
    "plt.subplot(3,2,5)\n",
    "stats.probplot(data['price'],dist=\"norm\",plot=plt)\n",
    "\n",
    "plt.subplot(3,2,6)\n",
    "stats.probplot(target_data,dist=\"norm\",plot=plt)\n",
    "\n",
    "plt.show()"
   ]
  },
  {
   "cell_type": "code",
   "execution_count": 72,
   "metadata": {
    "execution": {
     "iopub.execute_input": "2021-03-28T11:35:25.698408Z",
     "iopub.status.busy": "2021-03-28T11:35:25.697703Z",
     "iopub.status.idle": "2021-03-28T11:35:25.712749Z",
     "shell.execute_reply": "2021-03-28T11:35:25.711971Z"
    },
    "papermill": {
     "duration": 0.061382,
     "end_time": "2021-03-28T11:35:25.712900",
     "exception": false,
     "start_time": "2021-03-28T11:35:25.651518",
     "status": "completed"
    },
    "tags": []
   },
   "outputs": [
    {
     "data": {
      "text/plain": [
       "count    150930.00000\n",
       "mean         31.49576\n",
       "std          35.03242\n",
       "min           4.00000\n",
       "25%          15.00000\n",
       "50%          22.00000\n",
       "75%          38.00000\n",
       "max        2300.00000\n",
       "Name: price, dtype: float64"
      ]
     },
     "execution_count": 72,
     "metadata": {},
     "output_type": "execute_result"
    }
   ],
   "source": [
    "target_data.describe()"
   ]
  },
  {
   "cell_type": "markdown",
   "metadata": {
    "papermill": {
     "duration": 0.043072,
     "end_time": "2021-03-28T11:35:25.799828",
     "exception": false,
     "start_time": "2021-03-28T11:35:25.756756",
     "status": "completed"
    },
    "tags": []
   },
   "source": [
    "## 通过对象的相似性填补缺失值"
   ]
  },
  {
   "cell_type": "code",
   "execution_count": 73,
   "metadata": {
    "execution": {
     "iopub.execute_input": "2021-03-28T11:35:26.034321Z",
     "iopub.status.busy": "2021-03-28T11:35:26.033609Z",
     "iopub.status.idle": "2021-03-28T11:35:41.541957Z",
     "shell.execute_reply": "2021-03-28T11:35:41.541261Z"
    },
    "papermill": {
     "duration": 15.698736,
     "end_time": "2021-03-28T11:35:41.542120",
     "exception": false,
     "start_time": "2021-03-28T11:35:25.843384",
     "status": "completed"
    },
    "tags": []
   },
   "outputs": [
    {
     "name": "stdout",
     "output_type": "stream",
     "text": [
      "空数据数量为: 13695\n"
     ]
    }
   ],
   "source": [
    "numeric_attr = ['price','points']\n",
    "#查找两个对象间的相似性\n",
    "#如果通过暴力法求解耗时耗力\n",
    "#所以选择通过二分法查找的方法进行相似性选择\n",
    "\n",
    "def find_dis_value(dataset, pos, numeric_attr):\n",
    "    def dis_objs(tar_obj_index, sou_obj_index):\n",
    "        tar_obj = dataset.iloc[tar_obj_index]\n",
    "        sou_obj = dataset.iloc[sou_obj_index]\n",
    "        dis_value = 0\n",
    "        for column in tar_obj.index:\n",
    "            if column == 'points':\n",
    "                if (not math.isnan(tar_obj[column])) and (not math.isnan(sou_obj[column])):                 \n",
    "                    dis_value += sou_obj[column] - tar_obj[column]                \n",
    "                else:\n",
    "                    dis_value += 9998\n",
    "        return dis_value\n",
    "\n",
    "    \n",
    "    mindis = 9999\n",
    "    result_pos = -1\n",
    "    leftindex = 0;\n",
    "    rightindex = dataset.shape[0]-1\n",
    "    #二分查找返回最近距离的一个result_pos\n",
    "    while leftindex<=rightindex:\n",
    "        midindex = int((leftindex+rightindex)/2)\n",
    "        tmpdis = dis_objs(pos,midindex)        \n",
    "        if(tmpdis>0):\n",
    "            rightindex = midindex-1            \n",
    "        elif(tmpdis == 0):\n",
    "            result_pos = midindex\n",
    "            break;\n",
    "        else:\n",
    "            leftindex = midindex+1        \n",
    "        if(tmpdis<mindis):\n",
    "            result_pos = midindex  \n",
    "    return result_pos\n",
    "\n",
    "\n",
    "\n",
    "\n",
    "# 通过数据对象之间的相似性来填补缺失值\n",
    "numical_datasets = pd.DataFrame(data[numeric_attr].copy(deep=True))\n",
    "\n",
    "#对numical_datasets排序\n",
    "numical_datasets.sort_values(\"points\",inplace=True)\n",
    "data_price = numical_datasets['price'].copy(deep=True)\n",
    "\n",
    "print('空数据数量为:',data_price.isnull().sum())\n",
    "length = numical_datasets.shape[0]\n",
    "count=1;\n",
    "for i in range(length):\n",
    "    if math.isnan(numical_datasets['price'].iloc[i]):       \n",
    "#         print('当前处理第'+str(count)+\"个\")\n",
    "#         print(i,numical_datasets.iloc[i])  \n",
    "        result_pos = find_dis_value(numical_datasets, i, numeric_attr)\n",
    "#         print(result_pos,numical_datasets.iloc[result_pos])\n",
    "        data_price.iloc[i] = data_price.iloc[result_pos]\n",
    "#         print(i,data_price.iloc[i])\n",
    "        count+=1"
   ]
  },
  {
   "cell_type": "code",
   "execution_count": 74,
   "metadata": {
    "execution": {
     "iopub.execute_input": "2021-03-28T11:35:41.636596Z",
     "iopub.status.busy": "2021-03-28T11:35:41.635631Z",
     "iopub.status.idle": "2021-03-28T11:35:41.641556Z",
     "shell.execute_reply": "2021-03-28T11:35:41.642277Z"
    },
    "papermill": {
     "duration": 0.055397,
     "end_time": "2021-03-28T11:35:41.642502",
     "exception": false,
     "start_time": "2021-03-28T11:35:41.587105",
     "status": "completed"
    },
    "tags": []
   },
   "outputs": [
    {
     "name": "stdout",
     "output_type": "stream",
     "text": [
      "0\n"
     ]
    }
   ],
   "source": [
    "print(data_price.isnull().sum())"
   ]
  },
  {
   "cell_type": "code",
   "execution_count": 75,
   "metadata": {
    "execution": {
     "iopub.execute_input": "2021-03-28T11:35:41.758611Z",
     "iopub.status.busy": "2021-03-28T11:35:41.756910Z",
     "iopub.status.idle": "2021-03-28T11:35:43.055964Z",
     "shell.execute_reply": "2021-03-28T11:35:43.055417Z"
    },
    "papermill": {
     "duration": 1.368928,
     "end_time": "2021-03-28T11:35:43.056139",
     "exception": false,
     "start_time": "2021-03-28T11:35:41.687211",
     "status": "completed"
    },
    "tags": []
   },
   "outputs": [
    {
     "data": {
      "image/png": "[encoded data removed]",
      "text/plain": [
       "<Figure size 720x720 with 6 Axes>"
      ]
     },
     "metadata": {
      "needs_background": "light"
     },
     "output_type": "display_data"
    }
   ],
   "source": [
    "#可视化对比新旧数据\n",
    "\n",
    "plt.figure(figsize = (10,10))\n",
    "\n",
    "#直方图\n",
    "plt.subplot(3,2,1)\n",
    "plt.title(\"price hist\")\n",
    "data['price'].hist(alpha=0.5,bins=15) #alpha透明度，bins竖条数\n",
    "\n",
    "#直方图\n",
    "plt.subplot(3,2,2)\n",
    "plt.title(\"new price hist\")\n",
    "data_price.hist(alpha=0.5,bins=15) #alpha透明度，bins竖条数\n",
    "\n",
    "\n",
    "#盒图\n",
    "plt.subplot(3,2,3)\n",
    "plt.title(\"price box\")\n",
    "data['price'].plot(kind='box',notch=True,grid=True)\n",
    "\n",
    "#盒图\n",
    "plt.subplot(3,2,4)\n",
    "plt.title(\"new price box\")\n",
    "data_price.plot(kind='box',notch=True,grid=True)\n",
    "\n",
    "#q-q图\n",
    "plt.subplot(3,2,5)\n",
    "stats.probplot(data['price'],dist=\"norm\",plot=plt)\n",
    "\n",
    "plt.subplot(3,2,6)\n",
    "stats.probplot(data_price,dist=\"norm\",plot=plt)\n",
    "\n",
    "plt.show()"
   ]
  },
  {
   "cell_type": "code",
   "execution_count": 80,
   "metadata": {
    "execution": {
     "iopub.execute_input": "2021-03-28T11:35:43.155474Z",
     "iopub.status.busy": "2021-03-28T11:35:43.154794Z",
     "iopub.status.idle": "2021-03-28T11:35:43.168120Z",
     "shell.execute_reply": "2021-03-28T11:35:43.167561Z"
    },
    "papermill": {
     "duration": 0.064641,
     "end_time": "2021-03-28T11:35:43.168269",
     "exception": false,
     "start_time": "2021-03-28T11:35:43.103628",
     "status": "completed"
    },
    "tags": []
   },
   "outputs": [
    {
     "data": {
      "text/plain": [
       "count    150930.000000\n",
       "mean         34.107434\n",
       "std          36.281767\n",
       "min           4.000000\n",
       "25%          16.000000\n",
       "50%          25.000000\n",
       "75%          42.000000\n",
       "max        2300.000000\n",
       "Name: price, dtype: float64"
      ]
     },
     "execution_count": 80,
     "metadata": {},
     "output_type": "execute_result"
    }
   ],
   "source": [
    "data_price.describe()  # #通过数据对象之间的相似性来填补后数据的5数概况"
   ]
  },
  {
   "cell_type": "code",
   "execution_count": null,
   "metadata": {},
   "outputs": [],
   "source": []
  }
 ],
 "metadata": {
  "kernelspec": {
   "display_name": "Python 3 (ipykernel)",
   "language": "python",
   "name": "python3"
  },
  "language_info": {
   "codemirror_mode": {
    "name": "ipython",
    "version": 3
   },
   "file_extension": ".py",
   "mimetype": "text/x-python",
   "name": "python",
   "nbconvert_exporter": "python",
   "pygments_lexer": "ipython3",
   "version": "3.9.7"
  },
  "papermill": {
   "default_parameters": {},
   "duration": 40.842103,
   "end_time": "2021-03-28T11:35:43.926073",
   "environment_variables": {},
   "exception": null,
   "input_path": "__notebook__.ipynb",
   "output_path": "__notebook__.ipynb",
   "parameters": {},
   "start_time": "2021-03-28T11:35:03.083970",
   "version": "2.2.2"
  }
 },
 "nbformat": 4,
 "nbformat_minor": 4
}
